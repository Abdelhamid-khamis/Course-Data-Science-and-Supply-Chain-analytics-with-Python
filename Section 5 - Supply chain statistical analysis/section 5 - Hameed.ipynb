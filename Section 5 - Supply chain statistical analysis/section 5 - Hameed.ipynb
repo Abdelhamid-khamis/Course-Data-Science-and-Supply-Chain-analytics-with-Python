{
 "cells": [
  {
   "cell_type": "code",
   "execution_count": 9,
   "source": [
    "import numpy as np\r\n",
    "import pandas as pd"
   ],
   "outputs": [],
   "metadata": {}
  },
  {
   "cell_type": "code",
   "execution_count": 35,
   "source": [
    "### simulation of Date -> Generate Random demand for the Pineapple Juice \r\n",
    "\r\n",
    "pinapple_juice = np.random.uniform(low=2,high=500,size=1000).round()\r\n",
    "pinapple_juice\r\n",
    "pinapple_juice_df = pd.DataFrame(pinapple_juice)\r\n",
    "pinapple_juice_df.describe()"
   ],
   "outputs": [
    {
     "output_type": "execute_result",
     "data": {
      "text/html": [
       "<div>\n",
       "<style scoped>\n",
       "    .dataframe tbody tr th:only-of-type {\n",
       "        vertical-align: middle;\n",
       "    }\n",
       "\n",
       "    .dataframe tbody tr th {\n",
       "        vertical-align: top;\n",
       "    }\n",
       "\n",
       "    .dataframe thead th {\n",
       "        text-align: right;\n",
       "    }\n",
       "</style>\n",
       "<table border=\"1\" class=\"dataframe\">\n",
       "  <thead>\n",
       "    <tr style=\"text-align: right;\">\n",
       "      <th></th>\n",
       "      <th>0</th>\n",
       "    </tr>\n",
       "  </thead>\n",
       "  <tbody>\n",
       "    <tr>\n",
       "      <th>count</th>\n",
       "      <td>1000.000000</td>\n",
       "    </tr>\n",
       "    <tr>\n",
       "      <th>mean</th>\n",
       "      <td>251.629000</td>\n",
       "    </tr>\n",
       "    <tr>\n",
       "      <th>std</th>\n",
       "      <td>144.796904</td>\n",
       "    </tr>\n",
       "    <tr>\n",
       "      <th>min</th>\n",
       "      <td>2.000000</td>\n",
       "    </tr>\n",
       "    <tr>\n",
       "      <th>25%</th>\n",
       "      <td>124.000000</td>\n",
       "    </tr>\n",
       "    <tr>\n",
       "      <th>50%</th>\n",
       "      <td>260.500000</td>\n",
       "    </tr>\n",
       "    <tr>\n",
       "      <th>75%</th>\n",
       "      <td>372.000000</td>\n",
       "    </tr>\n",
       "    <tr>\n",
       "      <th>max</th>\n",
       "      <td>500.000000</td>\n",
       "    </tr>\n",
       "  </tbody>\n",
       "</table>\n",
       "</div>"
      ],
      "text/plain": [
       "                 0\n",
       "count  1000.000000\n",
       "mean    251.629000\n",
       "std     144.796904\n",
       "min       2.000000\n",
       "25%     124.000000\n",
       "50%     260.500000\n",
       "75%     372.000000\n",
       "max     500.000000"
      ]
     },
     "metadata": {},
     "execution_count": 35
    }
   ],
   "metadata": {}
  },
  {
   "cell_type": "code",
   "execution_count": 13,
   "source": [
    "pinapple_juice_df.plot.box();\r\n"
   ],
   "outputs": [
    {
     "output_type": "execute_result",
     "data": {
      "text/plain": [
       "<AxesSubplot:>"
      ]
     },
     "metadata": {},
     "execution_count": 13
    },
    {
     "output_type": "display_data",
     "data": {
      "image/png": "[encoded data removed]",
      "text/plain": [
       "<Figure size 432x288 with 1 Axes>"
      ]
     },
     "metadata": {
      "needs_background": "light"
     }
    }
   ],
   "metadata": {}
  },
  {
   "cell_type": "code",
   "execution_count": 20,
   "source": [
    "#### mean of pinapple juice\r\n",
    "display(pinapple_juice.mean())\r\n",
    "\r\n",
    "#### median\r\n",
    "import statistics as st\r\n",
    "display(f\"The Median is: {st.median(pinapple_juice)}\")\r\n",
    "\r\n",
    "### mode\r\n",
    "display(st.mode(pinapple_juice))"
   ],
   "outputs": [
    {
     "output_type": "display_data",
     "data": {
      "text/plain": [
       "255.045"
      ]
     },
     "metadata": {}
    },
    {
     "output_type": "display_data",
     "data": {
      "text/plain": [
       "'The Median is: 256.0'"
      ]
     },
     "metadata": {}
    },
    {
     "output_type": "display_data",
     "data": {
      "text/plain": [
       "492.0"
      ]
     },
     "metadata": {}
    }
   ],
   "metadata": {}
  },
  {
   "cell_type": "markdown",
   "source": [
    "### Measures of Spread \r\n",
    "    Range\r\n",
    "    St Dev"
   ],
   "metadata": {}
  },
  {
   "cell_type": "code",
   "execution_count": 36,
   "source": [
    "### Range Function\r\n",
    "\r\n",
    "def rango(dataset):\r\n",
    "    maxi = dataset.max()\r\n",
    "    mini = dataset.min()\r\n",
    "    rango = maxi - mini\r\n",
    "    \r\n",
    "    return rango\r\n",
    "\r\n",
    "rango(pinapple_juice)"
   ],
   "outputs": [
    {
     "output_type": "execute_result",
     "data": {
      "text/plain": [
       "498.0"
      ]
     },
     "metadata": {},
     "execution_count": 36
    }
   ],
   "metadata": {}
  },
  {
   "cell_type": "code",
   "execution_count": 40,
   "source": [
    "### St dev\r\n",
    "\r\n",
    "round(st.stdev(pinapple_juice),ndigits=2)"
   ],
   "outputs": [
    {
     "output_type": "execute_result",
     "data": {
      "text/plain": [
       "144.8"
      ]
     },
     "metadata": {},
     "execution_count": 40
    }
   ],
   "metadata": {}
  },
  {
   "cell_type": "code",
   "execution_count": 41,
   "source": [
    "### Variance --> The squared number of Standard Deviation\r\n",
    "st.variance(pinapple_juice)"
   ],
   "outputs": [
    {
     "output_type": "execute_result",
     "data": {
      "text/plain": [
       "20966.143502502502"
      ]
     },
     "metadata": {},
     "execution_count": 41
    }
   ],
   "metadata": {}
  },
  {
   "cell_type": "code",
   "execution_count": 43,
   "source": [
    "### Percentiles  --> Box Plot\r\n",
    "\r\n",
    "np.percentile(pinapple_juice, 50)\r\n",
    "np.percentile(pinapple_juice, 25)"
   ],
   "outputs": [
    {
     "output_type": "execute_result",
     "data": {
      "text/plain": [
       "124.0"
      ]
     },
     "metadata": {},
     "execution_count": 43
    }
   ],
   "metadata": {}
  },
  {
   "cell_type": "code",
   "execution_count": 51,
   "source": [
    "### FInding The Corelation between two variables (Horse Power & City_miles_per_gallon --> hpvsmpg)\r\n",
    "\r\n",
    "import pandas as pd\r\n",
    "\r\n",
    "cars_data = pd.read_csv('cars.csv')\r\n",
    "\r\n",
    "\r\n",
    "### Subsetting the 2 columns fom The Data Frame --> 2 ways\r\n",
    "\r\n",
    "# check the index of the columns and names\r\n",
    "cars_data.info()\r\n",
    "\r\n",
    "### 1st way -- subsetting with the 2 square brackets\r\n",
    "# hpvsmpg = cars_data[[\"horsepower\", \"city_miles_per_galloon\"]]\r\n",
    "\r\n",
    "\r\n",
    "### 2nd way -- subsetting with the index location(iloc)\r\n",
    "hpvsmpg = cars_data.iloc[:,[12,13]]\r\n",
    "hpvsmpg = cars_data.loc[:,['horsepower','city_miles_per_galloon']]\r\n",
    "\r\n",
    "hpvsmpg"
   ],
   "outputs": [
    {
     "output_type": "stream",
     "name": "stdout",
     "text": [
      "<class 'pandas.core.frame.DataFrame'>\n",
      "RangeIndex: 428 entries, 0 to 427\n",
      "Data columns (total 19 columns):\n",
      " #   Column                    Non-Null Count  Dtype  \n",
      "---  ------                    --------------  -----  \n",
      " 0   name                      428 non-null    object \n",
      " 1   sports_car                428 non-null    bool   \n",
      " 2   suv                       428 non-null    bool   \n",
      " 3   wagon                     428 non-null    bool   \n",
      " 4   minivan                   428 non-null    bool   \n",
      " 5   pickup                    428 non-null    bool   \n",
      " 6   all_wheel                 428 non-null    bool   \n",
      " 7   rear_wheel                428 non-null    bool   \n",
      " 8   Price                     428 non-null    int64  \n",
      " 9   Dealer_Cost               428 non-null    int64  \n",
      " 10  Engine_size               428 non-null    float64\n",
      " 11  cylenders                 428 non-null    int64  \n",
      " 12  horsepower                428 non-null    int64  \n",
      " 13  city_miles_per_galloon    414 non-null    float64\n",
      " 14  highway_miles_per_Gallon  414 non-null    float64\n",
      " 15  weight                    426 non-null    float64\n",
      " 16  base_wheeel               426 non-null    float64\n",
      " 17  length                    402 non-null    float64\n",
      " 18  width                     400 non-null    float64\n",
      "dtypes: bool(7), float64(7), int64(4), object(1)\n",
      "memory usage: 43.2+ KB\n"
     ]
    },
    {
     "output_type": "execute_result",
     "data": {
      "text/html": [
       "<div>\n",
       "<style scoped>\n",
       "    .dataframe tbody tr th:only-of-type {\n",
       "        vertical-align: middle;\n",
       "    }\n",
       "\n",
       "    .dataframe tbody tr th {\n",
       "        vertical-align: top;\n",
       "    }\n",
       "\n",
       "    .dataframe thead th {\n",
       "        text-align: right;\n",
       "    }\n",
       "</style>\n",
       "<table border=\"1\" class=\"dataframe\">\n",
       "  <thead>\n",
       "    <tr style=\"text-align: right;\">\n",
       "      <th></th>\n",
       "      <th>horsepower</th>\n",
       "      <th>city_miles_per_galloon</th>\n",
       "    </tr>\n",
       "  </thead>\n",
       "  <tbody>\n",
       "    <tr>\n",
       "      <th>0</th>\n",
       "      <td>103</td>\n",
       "      <td>28.0</td>\n",
       "    </tr>\n",
       "    <tr>\n",
       "      <th>1</th>\n",
       "      <td>103</td>\n",
       "      <td>28.0</td>\n",
       "    </tr>\n",
       "    <tr>\n",
       "      <th>2</th>\n",
       "      <td>140</td>\n",
       "      <td>26.0</td>\n",
       "    </tr>\n",
       "    <tr>\n",
       "      <th>3</th>\n",
       "      <td>140</td>\n",
       "      <td>26.0</td>\n",
       "    </tr>\n",
       "    <tr>\n",
       "      <th>4</th>\n",
       "      <td>140</td>\n",
       "      <td>26.0</td>\n",
       "    </tr>\n",
       "    <tr>\n",
       "      <th>...</th>\n",
       "      <td>...</td>\n",
       "      <td>...</td>\n",
       "    </tr>\n",
       "    <tr>\n",
       "      <th>423</th>\n",
       "      <td>305</td>\n",
       "      <td>14.0</td>\n",
       "    </tr>\n",
       "    <tr>\n",
       "      <th>424</th>\n",
       "      <td>165</td>\n",
       "      <td>21.0</td>\n",
       "    </tr>\n",
       "    <tr>\n",
       "      <th>425</th>\n",
       "      <td>142</td>\n",
       "      <td>22.0</td>\n",
       "    </tr>\n",
       "    <tr>\n",
       "      <th>426</th>\n",
       "      <td>190</td>\n",
       "      <td>16.0</td>\n",
       "    </tr>\n",
       "    <tr>\n",
       "      <th>427</th>\n",
       "      <td>190</td>\n",
       "      <td>14.0</td>\n",
       "    </tr>\n",
       "  </tbody>\n",
       "</table>\n",
       "<p>428 rows × 2 columns</p>\n",
       "</div>"
      ],
      "text/plain": [
       "     horsepower  city_miles_per_galloon\n",
       "0           103                    28.0\n",
       "1           103                    28.0\n",
       "2           140                    26.0\n",
       "3           140                    26.0\n",
       "4           140                    26.0\n",
       "..          ...                     ...\n",
       "423         305                    14.0\n",
       "424         165                    21.0\n",
       "425         142                    22.0\n",
       "426         190                    16.0\n",
       "427         190                    14.0\n",
       "\n",
       "[428 rows x 2 columns]"
      ]
     },
     "metadata": {},
     "execution_count": 51
    }
   ],
   "metadata": {}
  },
  {
   "cell_type": "code",
   "execution_count": 57,
   "source": [
    "### Correlation between two variables --> \r\n",
    "hpvsmpg.corr() "
   ],
   "outputs": [
    {
     "output_type": "execute_result",
     "data": {
      "text/html": [
       "<div>\n",
       "<style scoped>\n",
       "    .dataframe tbody tr th:only-of-type {\n",
       "        vertical-align: middle;\n",
       "    }\n",
       "\n",
       "    .dataframe tbody tr th {\n",
       "        vertical-align: top;\n",
       "    }\n",
       "\n",
       "    .dataframe thead th {\n",
       "        text-align: right;\n",
       "    }\n",
       "</style>\n",
       "<table border=\"1\" class=\"dataframe\">\n",
       "  <thead>\n",
       "    <tr style=\"text-align: right;\">\n",
       "      <th></th>\n",
       "      <th>horsepower</th>\n",
       "      <th>city_miles_per_galloon</th>\n",
       "    </tr>\n",
       "  </thead>\n",
       "  <tbody>\n",
       "    <tr>\n",
       "      <th>horsepower</th>\n",
       "      <td>1.000000</td>\n",
       "      <td>-0.666256</td>\n",
       "    </tr>\n",
       "    <tr>\n",
       "      <th>city_miles_per_galloon</th>\n",
       "      <td>-0.666256</td>\n",
       "      <td>1.000000</td>\n",
       "    </tr>\n",
       "  </tbody>\n",
       "</table>\n",
       "</div>"
      ],
      "text/plain": [
       "                        horsepower  city_miles_per_galloon\n",
       "horsepower                1.000000               -0.666256\n",
       "city_miles_per_galloon   -0.666256                1.000000"
      ]
     },
     "metadata": {},
     "execution_count": 57
    }
   ],
   "metadata": {}
  },
  {
   "cell_type": "markdown",
   "source": [
    "-0.666256\t-->  **negative correlation**\r\n",
    "\r\n",
    "- which means that, **more** horsepower leads to **less** citly_miles_per_gallon\r\n"
   ],
   "metadata": {}
  },
  {
   "cell_type": "markdown",
   "source": [
    "overall_cost = no_of_units * 50 + 500  # y = overall cost  5500\r\n",
    "\r\n",
    "y = 50 x + 500\r\n",
    "\r\n",
    "revenue = 150 * no_of_units + 200  # 15200\r\n",
    "\r\n",
    "profit = revenue - overall_cost # 9700"
   ],
   "metadata": {}
  },
  {
   "cell_type": "code",
   "execution_count": 58,
   "source": [
    "## Check if the \"cylinders\" column contain a discrete or a continuous data.\r\n",
    "\r\n",
    "cars_data[\"cylenders\"].value_counts()"
   ],
   "outputs": [
    {
     "output_type": "execute_result",
     "data": {
      "text/plain": [
       " 6     190\n",
       " 4     136\n",
       " 8      87\n",
       " 5       7\n",
       " 12      3\n",
       " 10      2\n",
       "-1       2\n",
       " 3       1\n",
       "Name: cylenders, dtype: int64"
      ]
     },
     "metadata": {},
     "execution_count": 58
    }
   ],
   "metadata": {}
  },
  {
   "cell_type": "code",
   "execution_count": 65,
   "source": [
    "#### Checking the correlation for the continuous variables of intrest \r\n",
    "cars_data.columns\r\n",
    "cars_cont_data = cars_data[[\"Price\", 'horsepower', 'city_miles_per_galloon', 'weight', 'length', 'width']]\r\n",
    "cars_cont_data.dropna(axis=0)   # drop rows that contain null values\r\n",
    "cars_cont_data.corr(method=\"pearson\")"
   ],
   "outputs": [
    {
     "output_type": "execute_result",
     "data": {
      "text/html": [
       "<div>\n",
       "<style scoped>\n",
       "    .dataframe tbody tr th:only-of-type {\n",
       "        vertical-align: middle;\n",
       "    }\n",
       "\n",
       "    .dataframe tbody tr th {\n",
       "        vertical-align: top;\n",
       "    }\n",
       "\n",
       "    .dataframe thead th {\n",
       "        text-align: right;\n",
       "    }\n",
       "</style>\n",
       "<table border=\"1\" class=\"dataframe\">\n",
       "  <thead>\n",
       "    <tr style=\"text-align: right;\">\n",
       "      <th></th>\n",
       "      <th>Price</th>\n",
       "      <th>horsepower</th>\n",
       "      <th>city_miles_per_galloon</th>\n",
       "      <th>weight</th>\n",
       "      <th>length</th>\n",
       "      <th>width</th>\n",
       "    </tr>\n",
       "  </thead>\n",
       "  <tbody>\n",
       "    <tr>\n",
       "      <th>Price</th>\n",
       "      <td>1.000000</td>\n",
       "      <td>0.826945</td>\n",
       "      <td>-0.461130</td>\n",
       "      <td>0.449336</td>\n",
       "      <td>0.214889</td>\n",
       "      <td>0.328113</td>\n",
       "    </tr>\n",
       "    <tr>\n",
       "      <th>horsepower</th>\n",
       "      <td>0.826945</td>\n",
       "      <td>1.000000</td>\n",
       "      <td>-0.666256</td>\n",
       "      <td>0.631525</td>\n",
       "      <td>0.379936</td>\n",
       "      <td>0.513297</td>\n",
       "    </tr>\n",
       "    <tr>\n",
       "      <th>city_miles_per_galloon</th>\n",
       "      <td>-0.461130</td>\n",
       "      <td>-0.666256</td>\n",
       "      <td>1.000000</td>\n",
       "      <td>-0.737192</td>\n",
       "      <td>-0.464826</td>\n",
       "      <td>-0.585833</td>\n",
       "    </tr>\n",
       "    <tr>\n",
       "      <th>weight</th>\n",
       "      <td>0.449336</td>\n",
       "      <td>0.631525</td>\n",
       "      <td>-0.737192</td>\n",
       "      <td>1.000000</td>\n",
       "      <td>0.667169</td>\n",
       "      <td>0.805658</td>\n",
       "    </tr>\n",
       "    <tr>\n",
       "      <th>length</th>\n",
       "      <td>0.214889</td>\n",
       "      <td>0.379936</td>\n",
       "      <td>-0.464826</td>\n",
       "      <td>0.667169</td>\n",
       "      <td>1.000000</td>\n",
       "      <td>0.752699</td>\n",
       "    </tr>\n",
       "    <tr>\n",
       "      <th>width</th>\n",
       "      <td>0.328113</td>\n",
       "      <td>0.513297</td>\n",
       "      <td>-0.585833</td>\n",
       "      <td>0.805658</td>\n",
       "      <td>0.752699</td>\n",
       "      <td>1.000000</td>\n",
       "    </tr>\n",
       "  </tbody>\n",
       "</table>\n",
       "</div>"
      ],
      "text/plain": [
       "                           Price  horsepower  city_miles_per_galloon  \\\n",
       "Price                   1.000000    0.826945               -0.461130   \n",
       "horsepower              0.826945    1.000000               -0.666256   \n",
       "city_miles_per_galloon -0.461130   -0.666256                1.000000   \n",
       "weight                  0.449336    0.631525               -0.737192   \n",
       "length                  0.214889    0.379936               -0.464826   \n",
       "width                   0.328113    0.513297               -0.585833   \n",
       "\n",
       "                          weight    length     width  \n",
       "Price                   0.449336  0.214889  0.328113  \n",
       "horsepower              0.631525  0.379936  0.513297  \n",
       "city_miles_per_galloon -0.737192 -0.464826 -0.585833  \n",
       "weight                  1.000000  0.667169  0.805658  \n",
       "length                  0.667169  1.000000  0.752699  \n",
       "width                   0.805658  0.752699  1.000000  "
      ]
     },
     "metadata": {},
     "execution_count": 65
    }
   ],
   "metadata": {}
  },
  {
   "cell_type": "code",
   "execution_count": null,
   "source": [],
   "outputs": [],
   "metadata": {}
  }
 ],
 "metadata": {
  "orig_nbformat": 4,
  "language_info": {
   "name": "python",
   "version": "3.7.11",
   "mimetype": "text/x-python",
   "codemirror_mode": {
    "name": "ipython",
    "version": 3
   },
   "pygments_lexer": "ipython3",
   "nbconvert_exporter": "python",
   "file_extension": ".py"
  },
  "kernelspec": {
   "name": "python3",
   "display_name": "Python 3.7.11 64-bit ('bamboolib3.7': conda)"
  },
  "interpreter": {
   "hash": "76a6b5fd9e096a131fa5611e7bb8b94ee00acbd0c324b351569a86cd5c340398"
  }
 },
 "nbformat": 4,
 "nbformat_minor": 2
}