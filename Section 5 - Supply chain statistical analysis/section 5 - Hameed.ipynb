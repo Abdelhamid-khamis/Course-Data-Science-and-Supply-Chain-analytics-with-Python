{
 "cells": [
  {
   "cell_type": "code",
   "execution_count": 3,
   "source": [
    "import numpy as np\r\n",
    "import pandas as pd"
   ],
   "outputs": [],
   "metadata": {}
  },
  {
   "cell_type": "code",
   "execution_count": 4,
   "source": [
    "### simulation of Data -> Generate Random demand for the Pineapple Juice \r\n",
    "\r\n",
    "pinapple_juice = np.random.uniform(low=2,high=500,size=1000).round()\r\n",
    "pinapple_juice\r\n",
    "pinapple_juice_df = pd.DataFrame(pinapple_juice)\r\n",
    "pinapple_juice_df.describe()"
   ],
   "outputs": [
    {
     "output_type": "execute_result",
     "data": {
      "text/html": [
       "<div>\n",
       "<style scoped>\n",
       "    .dataframe tbody tr th:only-of-type {\n",
       "        vertical-align: middle;\n",
       "    }\n",
       "\n",
       "    .dataframe tbody tr th {\n",
       "        vertical-align: top;\n",
       "    }\n",
       "\n",
       "    .dataframe thead th {\n",
       "        text-align: right;\n",
       "    }\n",
       "</style>\n",
       "<table border=\"1\" class=\"dataframe\">\n",
       "  <thead>\n",
       "    <tr style=\"text-align: right;\">\n",
       "      <th></th>\n",
       "      <th>0</th>\n",
       "    </tr>\n",
       "  </thead>\n",
       "  <tbody>\n",
       "    <tr>\n",
       "      <th>count</th>\n",
       "      <td>1000.000000</td>\n",
       "    </tr>\n",
       "    <tr>\n",
       "      <th>mean</th>\n",
       "      <td>246.274000</td>\n",
       "    </tr>\n",
       "    <tr>\n",
       "      <th>std</th>\n",
       "      <td>140.687668</td>\n",
       "    </tr>\n",
       "    <tr>\n",
       "      <th>min</th>\n",
       "      <td>3.000000</td>\n",
       "    </tr>\n",
       "    <tr>\n",
       "      <th>25%</th>\n",
       "      <td>129.750000</td>\n",
       "    </tr>\n",
       "    <tr>\n",
       "      <th>50%</th>\n",
       "      <td>241.500000</td>\n",
       "    </tr>\n",
       "    <tr>\n",
       "      <th>75%</th>\n",
       "      <td>362.250000</td>\n",
       "    </tr>\n",
       "    <tr>\n",
       "      <th>max</th>\n",
       "      <td>500.000000</td>\n",
       "    </tr>\n",
       "  </tbody>\n",
       "</table>\n",
       "</div>"
      ],
      "text/plain": [
       "                 0\n",
       "count  1000.000000\n",
       "mean    246.274000\n",
       "std     140.687668\n",
       "min       3.000000\n",
       "25%     129.750000\n",
       "50%     241.500000\n",
       "75%     362.250000\n",
       "max     500.000000"
      ]
     },
     "metadata": {},
     "execution_count": 4
    }
   ],
   "metadata": {}
  },
  {
   "cell_type": "code",
   "execution_count": 5,
   "source": [
    "pinapple_juice_df.plot.box();\r\n"
   ],
   "outputs": [
    {
     "output_type": "execute_result",
     "data": {
      "text/plain": [
       "<AxesSubplot:>"
      ]
     },
     "metadata": {},
     "execution_count": 5
    },
    {
     "output_type": "display_data",
     "data": {
      "image/png": "[encoded data removed]",
      "text/plain": [
       "<Figure size 432x288 with 1 Axes>"
      ]
     },
     "metadata": {
      "needs_background": "light"
     }
    }
   ],
   "metadata": {}
  },
  {
   "cell_type": "code",
   "execution_count": 6,
   "source": [
    "#### mean of pinapple juice\r\n",
    "display(pinapple_juice.mean())\r\n",
    "\r\n",
    "#### median\r\n",
    "import statistics as st\r\n",
    "display(f\"The Median is: {st.median(pinapple_juice)}\")\r\n",
    "\r\n",
    "### mode\r\n",
    "# display(st.mode(pinapple_juice))"
   ],
   "outputs": [
    {
     "output_type": "display_data",
     "data": {
      "text/plain": [
       "246.274"
      ]
     },
     "metadata": {}
    },
    {
     "output_type": "display_data",
     "data": {
      "text/plain": [
       "'The Median is: 241.5'"
      ]
     },
     "metadata": {}
    }
   ],
   "metadata": {}
  },
  {
   "cell_type": "markdown",
   "source": [
    "### Measures of Spread \r\n",
    "    Range\r\n",
    "    St Dev"
   ],
   "metadata": {}
  },
  {
   "cell_type": "code",
   "execution_count": 7,
   "source": [
    "### Range Function\r\n",
    "\r\n",
    "def rango(dataset):\r\n",
    "    maxi = dataset.max()\r\n",
    "    mini = dataset.min()\r\n",
    "    rango = maxi - mini\r\n",
    "    \r\n",
    "    return rango\r\n",
    "\r\n",
    "rango(pinapple_juice)"
   ],
   "outputs": [
    {
     "output_type": "execute_result",
     "data": {
      "text/plain": [
       "497.0"
      ]
     },
     "metadata": {},
     "execution_count": 7
    }
   ],
   "metadata": {}
  },
  {
   "cell_type": "code",
   "execution_count": 8,
   "source": [
    "### St dev\r\n",
    "\r\n",
    "round(st.stdev(pinapple_juice),ndigits=2)"
   ],
   "outputs": [
    {
     "output_type": "execute_result",
     "data": {
      "text/plain": [
       "140.69"
      ]
     },
     "metadata": {},
     "execution_count": 8
    }
   ],
   "metadata": {}
  },
  {
   "cell_type": "code",
   "execution_count": 9,
   "source": [
    "### Variance --> The squared number of Standard Deviation\r\n",
    "st.variance(pinapple_juice)"
   ],
   "outputs": [
    {
     "output_type": "execute_result",
     "data": {
      "text/plain": [
       "19793.019943943946"
      ]
     },
     "metadata": {},
     "execution_count": 9
    }
   ],
   "metadata": {}
  },
  {
   "cell_type": "code",
   "execution_count": 10,
   "source": [
    "### Percentiles  --> Box Plot\r\n",
    "\r\n",
    "np.percentile(pinapple_juice, 50)\r\n",
    "np.percentile(pinapple_juice, 25)"
   ],
   "outputs": [
    {
     "output_type": "execute_result",
     "data": {
      "text/plain": [
       "129.75"
      ]
     },
     "metadata": {},
     "execution_count": 10
    }
   ],
   "metadata": {}
  },
  {
   "cell_type": "code",
   "execution_count": 11,
   "source": [
    "### FInding The Corelation between two variables (Horse Power & City_miles_per_gallon --> hpvsmpg)\r\n",
    "\r\n",
    "import pandas as pd\r\n",
    "\r\n",
    "cars_data = pd.read_csv('cars.csv')\r\n",
    "\r\n",
    "\r\n",
    "### Subsetting the 2 columns fom The Data Frame --> 2 ways\r\n",
    "\r\n",
    "# check the index of the columns and names\r\n",
    "cars_data.info()\r\n",
    "\r\n",
    "### 1st way -- subsetting with the 2 square brackets\r\n",
    "# hpvsmpg = cars_data[[\"horsepower\", \"city_miles_per_galloon\"]]\r\n",
    "\r\n",
    "\r\n",
    "### 2nd way -- subsetting with the index location(iloc)\r\n",
    "hpvsmpg = cars_data.iloc[:,[12,13]]\r\n",
    "hpvsmpg = cars_data.loc[:,['horsepower','city_miles_per_galloon']]\r\n",
    "\r\n",
    "hpvsmpg"
   ],
   "outputs": [
    {
     "output_type": "stream",
     "name": "stdout",
     "text": [
      "<class 'pandas.core.frame.DataFrame'>\n",
      "RangeIndex: 428 entries, 0 to 427\n",
      "Data columns (total 19 columns):\n",
      " #   Column                    Non-Null Count  Dtype  \n",
      "---  ------                    --------------  -----  \n",
      " 0   name                      428 non-null    object \n",
      " 1   sports_car                428 non-null    bool   \n",
      " 2   suv                       428 non-null    bool   \n",
      " 3   wagon                     428 non-null    bool   \n",
      " 4   minivan                   428 non-null    bool   \n",
      " 5   pickup                    428 non-null    bool   \n",
      " 6   all_wheel                 428 non-null    bool   \n",
      " 7   rear_wheel                428 non-null    bool   \n",
      " 8   Price                     428 non-null    int64  \n",
      " 9   Dealer_Cost               428 non-null    int64  \n",
      " 10  Engine_size               428 non-null    float64\n",
      " 11  cylenders                 428 non-null    int64  \n",
      " 12  horsepower                428 non-null    int64  \n",
      " 13  city_miles_per_galloon    414 non-null    float64\n",
      " 14  highway_miles_per_Gallon  414 non-null    float64\n",
      " 15  weight                    426 non-null    float64\n",
      " 16  base_wheeel               426 non-null    float64\n",
      " 17  length                    402 non-null    float64\n",
      " 18  width                     400 non-null    float64\n",
      "dtypes: bool(7), float64(7), int64(4), object(1)\n",
      "memory usage: 43.2+ KB\n"
     ]
    },
    {
     "output_type": "execute_result",
     "data": {
      "text/html": [
       "<div>\n",
       "<style scoped>\n",
       "    .dataframe tbody tr th:only-of-type {\n",
       "        vertical-align: middle;\n",
       "    }\n",
       "\n",
       "    .dataframe tbody tr th {\n",
       "        vertical-align: top;\n",
       "    }\n",
       "\n",
       "    .dataframe thead th {\n",
       "        text-align: right;\n",
       "    }\n",
       "</style>\n",
       "<table border=\"1\" class=\"dataframe\">\n",
       "  <thead>\n",
       "    <tr style=\"text-align: right;\">\n",
       "      <th></th>\n",
       "      <th>horsepower</th>\n",
       "      <th>city_miles_per_galloon</th>\n",
       "    </tr>\n",
       "  </thead>\n",
       "  <tbody>\n",
       "    <tr>\n",
       "      <th>0</th>\n",
       "      <td>103</td>\n",
       "      <td>28.0</td>\n",
       "    </tr>\n",
       "    <tr>\n",
       "      <th>1</th>\n",
       "      <td>103</td>\n",
       "      <td>28.0</td>\n",
       "    </tr>\n",
       "    <tr>\n",
       "      <th>2</th>\n",
       "      <td>140</td>\n",
       "      <td>26.0</td>\n",
       "    </tr>\n",
       "    <tr>\n",
       "      <th>3</th>\n",
       "      <td>140</td>\n",
       "      <td>26.0</td>\n",
       "    </tr>\n",
       "    <tr>\n",
       "      <th>4</th>\n",
       "      <td>140</td>\n",
       "      <td>26.0</td>\n",
       "    </tr>\n",
       "    <tr>\n",
       "      <th>...</th>\n",
       "      <td>...</td>\n",
       "      <td>...</td>\n",
       "    </tr>\n",
       "    <tr>\n",
       "      <th>423</th>\n",
       "      <td>305</td>\n",
       "      <td>14.0</td>\n",
       "    </tr>\n",
       "    <tr>\n",
       "      <th>424</th>\n",
       "      <td>165</td>\n",
       "      <td>21.0</td>\n",
       "    </tr>\n",
       "    <tr>\n",
       "      <th>425</th>\n",
       "      <td>142</td>\n",
       "      <td>22.0</td>\n",
       "    </tr>\n",
       "    <tr>\n",
       "      <th>426</th>\n",
       "      <td>190</td>\n",
       "      <td>16.0</td>\n",
       "    </tr>\n",
       "    <tr>\n",
       "      <th>427</th>\n",
       "      <td>190</td>\n",
       "      <td>14.0</td>\n",
       "    </tr>\n",
       "  </tbody>\n",
       "</table>\n",
       "<p>428 rows × 2 columns</p>\n",
       "</div>"
      ],
      "text/plain": [
       "     horsepower  city_miles_per_galloon\n",
       "0           103                    28.0\n",
       "1           103                    28.0\n",
       "2           140                    26.0\n",
       "3           140                    26.0\n",
       "4           140                    26.0\n",
       "..          ...                     ...\n",
       "423         305                    14.0\n",
       "424         165                    21.0\n",
       "425         142                    22.0\n",
       "426         190                    16.0\n",
       "427         190                    14.0\n",
       "\n",
       "[428 rows x 2 columns]"
      ]
     },
     "metadata": {},
     "execution_count": 11
    }
   ],
   "metadata": {}
  },
  {
   "cell_type": "code",
   "execution_count": 12,
   "source": [
    "### Correlation between two variables --> \r\n",
    "hpvsmpg.corr() "
   ],
   "outputs": [
    {
     "output_type": "execute_result",
     "data": {
      "text/html": [
       "<div>\n",
       "<style scoped>\n",
       "    .dataframe tbody tr th:only-of-type {\n",
       "        vertical-align: middle;\n",
       "    }\n",
       "\n",
       "    .dataframe tbody tr th {\n",
       "        vertical-align: top;\n",
       "    }\n",
       "\n",
       "    .dataframe thead th {\n",
       "        text-align: right;\n",
       "    }\n",
       "</style>\n",
       "<table border=\"1\" class=\"dataframe\">\n",
       "  <thead>\n",
       "    <tr style=\"text-align: right;\">\n",
       "      <th></th>\n",
       "      <th>horsepower</th>\n",
       "      <th>city_miles_per_galloon</th>\n",
       "    </tr>\n",
       "  </thead>\n",
       "  <tbody>\n",
       "    <tr>\n",
       "      <th>horsepower</th>\n",
       "      <td>1.000000</td>\n",
       "      <td>-0.666256</td>\n",
       "    </tr>\n",
       "    <tr>\n",
       "      <th>city_miles_per_galloon</th>\n",
       "      <td>-0.666256</td>\n",
       "      <td>1.000000</td>\n",
       "    </tr>\n",
       "  </tbody>\n",
       "</table>\n",
       "</div>"
      ],
      "text/plain": [
       "                        horsepower  city_miles_per_galloon\n",
       "horsepower                1.000000               -0.666256\n",
       "city_miles_per_galloon   -0.666256                1.000000"
      ]
     },
     "metadata": {},
     "execution_count": 12
    }
   ],
   "metadata": {}
  },
  {
   "cell_type": "markdown",
   "source": [
    "-0.666256\t-->  **negative correlation**\r\n",
    "\r\n",
    "- which means that, **more** horsepower leads to **less** citly_miles_per_gallon\r\n"
   ],
   "metadata": {}
  },
  {
   "cell_type": "markdown",
   "source": [
    "overall_cost = no_of_units * 50 + 500  # y = overall cost  5500\r\n",
    "\r\n",
    "y = 50 x + 500\r\n",
    "\r\n",
    "revenue = 150 * no_of_units + 200  # 15200\r\n",
    "\r\n",
    "profit = revenue - overall_cost # 9700"
   ],
   "metadata": {}
  },
  {
   "cell_type": "code",
   "execution_count": 13,
   "source": [
    "## Check if the \"cylinders\" column contain a discrete or a continuous data.\r\n",
    "\r\n",
    "cars_data[\"cylenders\"].value_counts()"
   ],
   "outputs": [
    {
     "output_type": "execute_result",
     "data": {
      "text/plain": [
       " 6     190\n",
       " 4     136\n",
       " 8      87\n",
       " 5       7\n",
       " 12      3\n",
       " 10      2\n",
       "-1       2\n",
       " 3       1\n",
       "Name: cylenders, dtype: int64"
      ]
     },
     "metadata": {},
     "execution_count": 13
    }
   ],
   "metadata": {}
  },
  {
   "cell_type": "code",
   "execution_count": 14,
   "source": [
    "#### Checking the correlation for the continuous variables of intrest \r\n",
    "cars_data.columns\r\n",
    "cars_cont_data = cars_data[[\"Price\", 'horsepower', 'city_miles_per_galloon', 'weight', 'length', 'width']]\r\n",
    "cars_cont_data.dropna(axis=0)   # drop rows that contain null values\r\n",
    "cars_cont_data.corr(method=\"pearson\")"
   ],
   "outputs": [
    {
     "output_type": "execute_result",
     "data": {
      "text/html": [
       "<div>\n",
       "<style scoped>\n",
       "    .dataframe tbody tr th:only-of-type {\n",
       "        vertical-align: middle;\n",
       "    }\n",
       "\n",
       "    .dataframe tbody tr th {\n",
       "        vertical-align: top;\n",
       "    }\n",
       "\n",
       "    .dataframe thead th {\n",
       "        text-align: right;\n",
       "    }\n",
       "</style>\n",
       "<table border=\"1\" class=\"dataframe\">\n",
       "  <thead>\n",
       "    <tr style=\"text-align: right;\">\n",
       "      <th></th>\n",
       "      <th>Price</th>\n",
       "      <th>horsepower</th>\n",
       "      <th>city_miles_per_galloon</th>\n",
       "      <th>weight</th>\n",
       "      <th>length</th>\n",
       "      <th>width</th>\n",
       "    </tr>\n",
       "  </thead>\n",
       "  <tbody>\n",
       "    <tr>\n",
       "      <th>Price</th>\n",
       "      <td>1.000000</td>\n",
       "      <td>0.826945</td>\n",
       "      <td>-0.461130</td>\n",
       "      <td>0.449336</td>\n",
       "      <td>0.214889</td>\n",
       "      <td>0.328113</td>\n",
       "    </tr>\n",
       "    <tr>\n",
       "      <th>horsepower</th>\n",
       "      <td>0.826945</td>\n",
       "      <td>1.000000</td>\n",
       "      <td>-0.666256</td>\n",
       "      <td>0.631525</td>\n",
       "      <td>0.379936</td>\n",
       "      <td>0.513297</td>\n",
       "    </tr>\n",
       "    <tr>\n",
       "      <th>city_miles_per_galloon</th>\n",
       "      <td>-0.461130</td>\n",
       "      <td>-0.666256</td>\n",
       "      <td>1.000000</td>\n",
       "      <td>-0.737192</td>\n",
       "      <td>-0.464826</td>\n",
       "      <td>-0.585833</td>\n",
       "    </tr>\n",
       "    <tr>\n",
       "      <th>weight</th>\n",
       "      <td>0.449336</td>\n",
       "      <td>0.631525</td>\n",
       "      <td>-0.737192</td>\n",
       "      <td>1.000000</td>\n",
       "      <td>0.667169</td>\n",
       "      <td>0.805658</td>\n",
       "    </tr>\n",
       "    <tr>\n",
       "      <th>length</th>\n",
       "      <td>0.214889</td>\n",
       "      <td>0.379936</td>\n",
       "      <td>-0.464826</td>\n",
       "      <td>0.667169</td>\n",
       "      <td>1.000000</td>\n",
       "      <td>0.752699</td>\n",
       "    </tr>\n",
       "    <tr>\n",
       "      <th>width</th>\n",
       "      <td>0.328113</td>\n",
       "      <td>0.513297</td>\n",
       "      <td>-0.585833</td>\n",
       "      <td>0.805658</td>\n",
       "      <td>0.752699</td>\n",
       "      <td>1.000000</td>\n",
       "    </tr>\n",
       "  </tbody>\n",
       "</table>\n",
       "</div>"
      ],
      "text/plain": [
       "                           Price  horsepower  city_miles_per_galloon  \\\n",
       "Price                   1.000000    0.826945               -0.461130   \n",
       "horsepower              0.826945    1.000000               -0.666256   \n",
       "city_miles_per_galloon -0.461130   -0.666256                1.000000   \n",
       "weight                  0.449336    0.631525               -0.737192   \n",
       "length                  0.214889    0.379936               -0.464826   \n",
       "width                   0.328113    0.513297               -0.585833   \n",
       "\n",
       "                          weight    length     width  \n",
       "Price                   0.449336  0.214889  0.328113  \n",
       "horsepower              0.631525  0.379936  0.513297  \n",
       "city_miles_per_galloon -0.737192 -0.464826 -0.585833  \n",
       "weight                  1.000000  0.667169  0.805658  \n",
       "length                  0.667169  1.000000  0.752699  \n",
       "width                   0.805658  0.752699  1.000000  "
      ]
     },
     "metadata": {},
     "execution_count": 14
    }
   ],
   "metadata": {}
  },
  {
   "cell_type": "code",
   "execution_count": 15,
   "source": [
    "import pandas as pd\r\n",
    "file_path =r\"E:\\Products\\Codes\\Python\\github_codes\\Course-Data-Science-and-Supply-Chain-analytics-with-Python\\Select Star SQL\\tx_deathrow_full.csv\"\r\n",
    "\r\n",
    "executions = pd.read_csv(file_path)\r\n",
    "executions"
   ],
   "outputs": [
    {
     "output_type": "execute_result",
     "data": {
      "text/html": [
       "<div>\n",
       "<style scoped>\n",
       "    .dataframe tbody tr th:only-of-type {\n",
       "        vertical-align: middle;\n",
       "    }\n",
       "\n",
       "    .dataframe tbody tr th {\n",
       "        vertical-align: top;\n",
       "    }\n",
       "\n",
       "    .dataframe thead th {\n",
       "        text-align: right;\n",
       "    }\n",
       "</style>\n",
       "<table border=\"1\" class=\"dataframe\">\n",
       "  <thead>\n",
       "    <tr style=\"text-align: right;\">\n",
       "      <th></th>\n",
       "      <th>Execution</th>\n",
       "      <th>Date of Birth</th>\n",
       "      <th>Date of Offence</th>\n",
       "      <th>Highest Education Level</th>\n",
       "      <th>Last Name</th>\n",
       "      <th>First Name</th>\n",
       "      <th>TDCJ\\nNumber</th>\n",
       "      <th>Age at Execution</th>\n",
       "      <th>Date Received</th>\n",
       "      <th>Execution Date</th>\n",
       "      <th>Race</th>\n",
       "      <th>County</th>\n",
       "      <th>Eye Color</th>\n",
       "      <th>Weight</th>\n",
       "      <th>Height</th>\n",
       "      <th>Native County</th>\n",
       "      <th>Native State</th>\n",
       "      <th>Last Statement</th>\n",
       "    </tr>\n",
       "  </thead>\n",
       "  <tbody>\n",
       "    <tr>\n",
       "      <th>0</th>\n",
       "      <td>553</td>\n",
       "      <td>1983-09-24</td>\n",
       "      <td>2004-11-21</td>\n",
       "      <td>9.0</td>\n",
       "      <td>Young</td>\n",
       "      <td>Christopher Anthony</td>\n",
       "      <td>999508</td>\n",
       "      <td>34</td>\n",
       "      <td>2006-03-31</td>\n",
       "      <td>2018-07-17</td>\n",
       "      <td>Black</td>\n",
       "      <td>Bexar</td>\n",
       "      <td>Brown</td>\n",
       "      <td>216.0</td>\n",
       "      <td>6' 1\"</td>\n",
       "      <td>Bexar</td>\n",
       "      <td>Texas</td>\n",
       "      <td>l want to make sure the Patel family knows I l...</td>\n",
       "    </tr>\n",
       "    <tr>\n",
       "      <th>1</th>\n",
       "      <td>552</td>\n",
       "      <td>1951-08-28</td>\n",
       "      <td>1979-05-27</td>\n",
       "      <td>12.0</td>\n",
       "      <td>Bible</td>\n",
       "      <td>Danny Paul</td>\n",
       "      <td>999455</td>\n",
       "      <td>66</td>\n",
       "      <td>2003-07-17</td>\n",
       "      <td>2018-06-27</td>\n",
       "      <td>White</td>\n",
       "      <td>Harris</td>\n",
       "      <td>Blue</td>\n",
       "      <td>194.0</td>\n",
       "      <td>5' 7\"</td>\n",
       "      <td>Brazoria</td>\n",
       "      <td>Texas</td>\n",
       "      <td>NaN</td>\n",
       "    </tr>\n",
       "    <tr>\n",
       "      <th>2</th>\n",
       "      <td>551</td>\n",
       "      <td>1981-04-03</td>\n",
       "      <td>2003-12-03</td>\n",
       "      <td>10.0</td>\n",
       "      <td>Castillo</td>\n",
       "      <td>Juan Edward</td>\n",
       "      <td>999502</td>\n",
       "      <td>37</td>\n",
       "      <td>2005-09-27</td>\n",
       "      <td>2018-05-16</td>\n",
       "      <td>Hispanic</td>\n",
       "      <td>Bexar</td>\n",
       "      <td>Brown</td>\n",
       "      <td>180.0</td>\n",
       "      <td>5' 11\"</td>\n",
       "      <td>Bexar</td>\n",
       "      <td>Texas</td>\n",
       "      <td>To everyone that has been there for me you kno...</td>\n",
       "    </tr>\n",
       "    <tr>\n",
       "      <th>3</th>\n",
       "      <td>550</td>\n",
       "      <td>1987-04-04</td>\n",
       "      <td>2008-04-06</td>\n",
       "      <td>11.0</td>\n",
       "      <td>Davila</td>\n",
       "      <td>Erick Daniel</td>\n",
       "      <td>999545</td>\n",
       "      <td>31</td>\n",
       "      <td>2009-02-27</td>\n",
       "      <td>2018-04-25</td>\n",
       "      <td>Black</td>\n",
       "      <td>Tarrant</td>\n",
       "      <td>Brown</td>\n",
       "      <td>161.0</td>\n",
       "      <td>5' 11\"</td>\n",
       "      <td>Tarrant</td>\n",
       "      <td>Texas</td>\n",
       "      <td>Yes, I would like to say nephew it burns huh. ...</td>\n",
       "    </tr>\n",
       "    <tr>\n",
       "      <th>4</th>\n",
       "      <td>549</td>\n",
       "      <td>1980-03-26</td>\n",
       "      <td>2005-09-13</td>\n",
       "      <td>12.0</td>\n",
       "      <td>Rodriguez III</td>\n",
       "      <td>Rosendo</td>\n",
       "      <td>999534</td>\n",
       "      <td>38</td>\n",
       "      <td>2008-05-14</td>\n",
       "      <td>2018-03-27</td>\n",
       "      <td>Hispanic</td>\n",
       "      <td>Lubbock</td>\n",
       "      <td>Brown</td>\n",
       "      <td>198.0</td>\n",
       "      <td>5' 8\"</td>\n",
       "      <td>Wichita</td>\n",
       "      <td>Texas</td>\n",
       "      <td>First I would like to say I have been here sin...</td>\n",
       "    </tr>\n",
       "    <tr>\n",
       "      <th>...</th>\n",
       "      <td>...</td>\n",
       "      <td>...</td>\n",
       "      <td>...</td>\n",
       "      <td>...</td>\n",
       "      <td>...</td>\n",
       "      <td>...</td>\n",
       "      <td>...</td>\n",
       "      <td>...</td>\n",
       "      <td>...</td>\n",
       "      <td>...</td>\n",
       "      <td>...</td>\n",
       "      <td>...</td>\n",
       "      <td>...</td>\n",
       "      <td>...</td>\n",
       "      <td>...</td>\n",
       "      <td>...</td>\n",
       "      <td>...</td>\n",
       "      <td>...</td>\n",
       "    </tr>\n",
       "    <tr>\n",
       "      <th>548</th>\n",
       "      <td>5</td>\n",
       "      <td>1936-04-08</td>\n",
       "      <td>1974-10-23</td>\n",
       "      <td>NaN</td>\n",
       "      <td>Skillern</td>\n",
       "      <td>Doyle</td>\n",
       "      <td>518</td>\n",
       "      <td>49</td>\n",
       "      <td>1975-03-03</td>\n",
       "      <td>1985-01-16</td>\n",
       "      <td>White</td>\n",
       "      <td>Lubbock</td>\n",
       "      <td>NaN</td>\n",
       "      <td>NaN</td>\n",
       "      <td>NaN</td>\n",
       "      <td>NaN</td>\n",
       "      <td>NaN</td>\n",
       "      <td>I pray that my family will rejoice and will fo...</td>\n",
       "    </tr>\n",
       "    <tr>\n",
       "      <th>549</th>\n",
       "      <td>4</td>\n",
       "      <td>1945-02-23</td>\n",
       "      <td>1978-08-07</td>\n",
       "      <td>NaN</td>\n",
       "      <td>Barefoot</td>\n",
       "      <td>Thomas</td>\n",
       "      <td>621</td>\n",
       "      <td>39</td>\n",
       "      <td>1978-11-21</td>\n",
       "      <td>1984-10-30</td>\n",
       "      <td>White</td>\n",
       "      <td>Bell</td>\n",
       "      <td>NaN</td>\n",
       "      <td>NaN</td>\n",
       "      <td>NaN</td>\n",
       "      <td>NaN</td>\n",
       "      <td>NaN</td>\n",
       "      <td>Yes, I do. I hope that one day we can look bac...</td>\n",
       "    </tr>\n",
       "    <tr>\n",
       "      <th>550</th>\n",
       "      <td>3</td>\n",
       "      <td>1944-10-19</td>\n",
       "      <td>NaN</td>\n",
       "      <td>NaN</td>\n",
       "      <td>O'Bryan</td>\n",
       "      <td>Ronald</td>\n",
       "      <td>529</td>\n",
       "      <td>39</td>\n",
       "      <td>1975-07-14</td>\n",
       "      <td>1984-03-31</td>\n",
       "      <td>White</td>\n",
       "      <td>Harris</td>\n",
       "      <td>NaN</td>\n",
       "      <td>NaN</td>\n",
       "      <td>NaN</td>\n",
       "      <td>NaN</td>\n",
       "      <td>NaN</td>\n",
       "      <td>What is about to transpire in a few moments is...</td>\n",
       "    </tr>\n",
       "    <tr>\n",
       "      <th>551</th>\n",
       "      <td>2</td>\n",
       "      <td>1954-09-27</td>\n",
       "      <td>1980-04-20</td>\n",
       "      <td>6.0</td>\n",
       "      <td>Autry</td>\n",
       "      <td>James</td>\n",
       "      <td>670</td>\n",
       "      <td>29</td>\n",
       "      <td>1980-10-10</td>\n",
       "      <td>1984-03-14</td>\n",
       "      <td>White</td>\n",
       "      <td>Jefferson</td>\n",
       "      <td>Brown</td>\n",
       "      <td>137.0</td>\n",
       "      <td>5' 8\"</td>\n",
       "      <td>Potter</td>\n",
       "      <td>Texas</td>\n",
       "      <td>NaN</td>\n",
       "    </tr>\n",
       "    <tr>\n",
       "      <th>552</th>\n",
       "      <td>1</td>\n",
       "      <td>1942-09-01</td>\n",
       "      <td>1976-12-14</td>\n",
       "      <td>12.0</td>\n",
       "      <td>Brooks, Jr.</td>\n",
       "      <td>Charlie</td>\n",
       "      <td>592</td>\n",
       "      <td>40</td>\n",
       "      <td>1978-04-25</td>\n",
       "      <td>1982-12-07</td>\n",
       "      <td>Black</td>\n",
       "      <td>Tarrant</td>\n",
       "      <td>Maroon</td>\n",
       "      <td>150.0</td>\n",
       "      <td>5' 9\"</td>\n",
       "      <td>Tarrant</td>\n",
       "      <td>Texas</td>\n",
       "      <td>(Statement to the Media:) I, at this very mome...</td>\n",
       "    </tr>\n",
       "  </tbody>\n",
       "</table>\n",
       "<p>553 rows × 18 columns</p>\n",
       "</div>"
      ],
      "text/plain": [
       "     Execution Date of Birth Date of Offence  Highest Education Level  \\\n",
       "0          553    1983-09-24      2004-11-21                      9.0   \n",
       "1          552    1951-08-28      1979-05-27                     12.0   \n",
       "2          551    1981-04-03      2003-12-03                     10.0   \n",
       "3          550    1987-04-04      2008-04-06                     11.0   \n",
       "4          549    1980-03-26      2005-09-13                     12.0   \n",
       "..         ...           ...             ...                      ...   \n",
       "548          5    1936-04-08      1974-10-23                      NaN   \n",
       "549          4    1945-02-23      1978-08-07                      NaN   \n",
       "550          3    1944-10-19             NaN                      NaN   \n",
       "551          2    1954-09-27      1980-04-20                      6.0   \n",
       "552          1    1942-09-01      1976-12-14                     12.0   \n",
       "\n",
       "         Last Name           First Name  TDCJ\\nNumber  Age at Execution  \\\n",
       "0            Young  Christopher Anthony        999508                34   \n",
       "1            Bible           Danny Paul        999455                66   \n",
       "2         Castillo          Juan Edward        999502                37   \n",
       "3           Davila         Erick Daniel        999545                31   \n",
       "4    Rodriguez III              Rosendo        999534                38   \n",
       "..             ...                  ...           ...               ...   \n",
       "548       Skillern                Doyle           518                49   \n",
       "549       Barefoot               Thomas           621                39   \n",
       "550        O'Bryan               Ronald           529                39   \n",
       "551          Autry                James           670                29   \n",
       "552    Brooks, Jr.              Charlie           592                40   \n",
       "\n",
       "    Date Received Execution Date      Race     County Eye Color  Weight  \\\n",
       "0      2006-03-31     2018-07-17     Black      Bexar     Brown   216.0   \n",
       "1      2003-07-17     2018-06-27     White     Harris      Blue   194.0   \n",
       "2      2005-09-27     2018-05-16  Hispanic      Bexar     Brown   180.0   \n",
       "3      2009-02-27     2018-04-25     Black    Tarrant     Brown   161.0   \n",
       "4      2008-05-14     2018-03-27  Hispanic    Lubbock     Brown   198.0   \n",
       "..            ...            ...       ...        ...       ...     ...   \n",
       "548    1975-03-03     1985-01-16     White    Lubbock       NaN     NaN   \n",
       "549    1978-11-21     1984-10-30     White       Bell       NaN     NaN   \n",
       "550    1975-07-14     1984-03-31     White     Harris       NaN     NaN   \n",
       "551    1980-10-10     1984-03-14     White  Jefferson     Brown   137.0   \n",
       "552    1978-04-25     1982-12-07     Black    Tarrant    Maroon   150.0   \n",
       "\n",
       "     Height Native County Native State  \\\n",
       "0     6' 1\"         Bexar        Texas   \n",
       "1     5' 7\"      Brazoria        Texas   \n",
       "2    5' 11\"         Bexar        Texas   \n",
       "3    5' 11\"       Tarrant        Texas   \n",
       "4     5' 8\"       Wichita        Texas   \n",
       "..      ...           ...          ...   \n",
       "548     NaN           NaN          NaN   \n",
       "549     NaN           NaN          NaN   \n",
       "550     NaN           NaN          NaN   \n",
       "551   5' 8\"        Potter        Texas   \n",
       "552   5' 9\"       Tarrant        Texas   \n",
       "\n",
       "                                        Last Statement  \n",
       "0    l want to make sure the Patel family knows I l...  \n",
       "1                                                  NaN  \n",
       "2    To everyone that has been there for me you kno...  \n",
       "3    Yes, I would like to say nephew it burns huh. ...  \n",
       "4    First I would like to say I have been here sin...  \n",
       "..                                                 ...  \n",
       "548  I pray that my family will rejoice and will fo...  \n",
       "549  Yes, I do. I hope that one day we can look bac...  \n",
       "550  What is about to transpire in a few moments is...  \n",
       "551                                                NaN  \n",
       "552  (Statement to the Media:) I, at this very mome...  \n",
       "\n",
       "[553 rows x 18 columns]"
      ]
     },
     "metadata": {},
     "execution_count": 15
    }
   ],
   "metadata": {}
  },
  {
   "cell_type": "code",
   "execution_count": 16,
   "source": [
    "napelon_record = executions.loc[executions[\"First Name\"] == \"Napoleon\"]\r\n",
    "napelon_last_statement = napelon_record[\"Last Statement\"]\r\n",
    "napelon_last_statement\r\n"
   ],
   "outputs": [
    {
     "output_type": "execute_result",
     "data": {
      "text/plain": [
       "283    The act I committed to put me here was not jus...\n",
       "Name: Last Statement, dtype: object"
      ]
     },
     "metadata": {},
     "execution_count": 16
    }
   ],
   "metadata": {}
  },
  {
   "cell_type": "code",
   "execution_count": 17,
   "source": [
    "### Creating Heat Map for the correlated data\r\n",
    "\r\n",
    "import seaborn as sns\r\n",
    "\r\n",
    "cars_data.columns\r\n",
    "\r\n",
    "correlated_cars_data = cars_data[['Price', 'Engine_size', 'cylenders',\r\n",
    "       'horsepower', 'city_miles_per_galloon', 'highway_miles_per_Gallon',\r\n",
    "       'weight', 'base_wheeel', 'length']].corr()\r\n",
    "\r\n",
    "sns.heatmap(data=correlated_cars_data)  # Lighter the color means high positive correlation\r\n",
    "                                        # Darker the color means high negative correlation"
   ],
   "outputs": [
    {
     "output_type": "execute_result",
     "data": {
      "text/plain": [
       "<AxesSubplot:>"
      ]
     },
     "metadata": {},
     "execution_count": 17
    },
    {
     "output_type": "display_data",
     "data": {
      "image/png": "[encoded data removed]",
      "text/plain": [
       "<Figure size 432x288 with 2 Axes>"
      ]
     },
     "metadata": {
      "needs_background": "light"
     }
    }
   ],
   "metadata": {}
  },
  {
   "cell_type": "markdown",
   "source": [
    "Correlation Thresholds (الحدود القصوى للارتباط)\r\n",
    "![Correlation Thresholds](Learning-Pictures\\Screenshot(100).png)\r\n",
    "\r\n",
    "- Perfect correlation  == 1\r\n",
    "- High degree corr  >= .5\r\n",
    "-   0.3 <    Moderate degree corr  < .5\r\n",
    "-    0 <     Low degree corr  < .3\r\n"
   ],
   "metadata": {}
  },
  {
   "cell_type": "markdown",
   "source": [
    "### Detecting outliers (Anamolies or Extremes)\r\n",
    "\r\n",
    "it's very common in supply chain to find outliers, \r\n",
    "- (e.g.) We are selling on average 50 or 40 units per day, then all of a sudden i sold 200 units, <br>\r\n",
    "    and in another day, i sold 2 units, so both of these records are considerd as extremes which named as outliers.\r\n",
    "\r\n",
    "\r\n",
    "![Detecting Outliers](Learning-Pictures\\Screenshot(101).png)"
   ],
   "metadata": {}
  },
  {
   "cell_type": "code",
   "execution_count": 29,
   "source": [
    "\r\n",
    "### Detecting outliers function - Alhamdullah\r\n",
    "def detect_outliers(dataset):\r\n",
    "    \r\n",
    "    \r\n",
    "    if isinstance(dataset, (np.ndarray)):\r\n",
    "        \r\n",
    "        upper_outliers = dataset[dataset > calculate_thresholds(dataset)[1]]\r\n",
    "        lower_outliers = dataset[dataset < calculate_thresholds(dataset)[0]]\r\n",
    "        return f\" upper_outliers are : {upper_outliers}, lower_outliers are : {lower_outliers}\"\r\n",
    "        \r\n",
    "    elif isinstance(dataset, (list, tuple)):\r\n",
    "        dataset = np.array(dataset)\r\n",
    "        upper_outliers = dataset[dataset > calculate_thresholds(dataset)[1]]\r\n",
    "        lower_outliers = dataset[dataset < calculate_thresholds(dataset)[0]]\r\n",
    "        return f\" upper_outliers are : {upper_outliers}, lower_outliers are : {lower_outliers}\"\r\n",
    "\r\n",
    "def calculate_thresholds(dataset):\r\n",
    "    \r\n",
    "    q75, q25 = np.percentile(dataset, [75 ,25])\r\n",
    "    iqr = q75 - q25\r\n",
    " \r\n",
    "    min_threshold = q25 - (iqr * 1.5)\r\n",
    "    max_threshold = q75 + (iqr * 1.5)\r\n",
    "    return min_threshold, max_threshold\r\n",
    "    \r\n",
    "    \r\n",
    "# sales= np.array([5,8,10,20,100,2,65,18,32,25,200,9,15])\r\n",
    "sales= [5,8,10,20,100,2,65,18,32,25,200,9,15]\r\n",
    "\r\n",
    "detect_outliers(dataset= sales)\r\n",
    "\r\n",
    "# print(calculate_thresholds(dataset=sales))"
   ],
   "outputs": [
    {
     "output_type": "execute_result",
     "data": {
      "text/plain": [
       "' upper_outliers are : [100 200], lower_outliers are : []'"
      ]
     },
     "metadata": {},
     "execution_count": 29
    }
   ],
   "metadata": {}
  },
  {
   "cell_type": "code",
   "execution_count": null,
   "source": [],
   "outputs": [],
   "metadata": {}
  },
  {
   "cell_type": "markdown",
   "source": [],
   "metadata": {}
  }
 ],
 "metadata": {
  "orig_nbformat": 4,
  "language_info": {
   "name": "python",
   "version": "3.7.11",
   "mimetype": "text/x-python",
   "codemirror_mode": {
    "name": "ipython",
    "version": 3
   },
   "pygments_lexer": "ipython3",
   "nbconvert_exporter": "python",
   "file_extension": ".py"
  },
  "kernelspec": {
   "name": "python3",
   "display_name": "Python 3.7.11 64-bit ('bamboolib3.7': conda)"
  },
  "interpreter": {
   "hash": "76a6b5fd9e096a131fa5611e7bb8b94ee00acbd0c324b351569a86cd5c340398"
  }
 },
 "nbformat": 4,
 "nbformat_minor": 2
}