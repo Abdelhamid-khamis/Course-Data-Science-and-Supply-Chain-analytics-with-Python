{
 "cells": [
  {
   "cell_type": "markdown",
   "source": [
    "[blue_text](url_here)\r\n",
    "\r\n",
    "## [The Link of this Notebook in Binder](https://mybinder.org/v2/gh/8080labs/bamboolib_binder_template/7fd4ae9faa2382a52efc0e3d2d15632000dae9e8)\r\n"
   ],
   "metadata": {}
  },
  {
   "cell_type": "code",
   "execution_count": 3,
   "source": [
    "import pandas as pd\r\n",
    "import bamboolib as bam\r\n",
    "cars_data = pd.read_csv(\"cars.csv\")\r\n",
    "\r\n",
    "\r\n",
    "cars_data['name'] = cars_data['name'].astype('string')\r\n",
    "\r\n",
    "cars_data = cars_data.rename(columns={'cylenders': 'cylinders'})\r\n",
    "cars_data.head()"
   ],
   "outputs": [
    {
     "output_type": "display_data",
     "data": {
      "application/vnd.jupyter.widget-view+json": {
       "model_id": "f5e859542a90491fb2183ef1cbf43646"
      },
      "text/html": [
       "<div>\n",
       "<style scoped>\n",
       "    .dataframe tbody tr th:only-of-type {\n",
       "        vertical-align: middle;\n",
       "    }\n",
       "\n",
       "    .dataframe tbody tr th {\n",
       "        vertical-align: top;\n",
       "    }\n",
       "\n",
       "    .dataframe thead th {\n",
       "        text-align: right;\n",
       "    }\n",
       "</style>\n",
       "<table border=\"1\" class=\"dataframe\">\n",
       "  <thead>\n",
       "    <tr style=\"text-align: right;\">\n",
       "      <th></th>\n",
       "      <th>name</th>\n",
       "      <th>sports_car</th>\n",
       "      <th>suv</th>\n",
       "      <th>wagon</th>\n",
       "      <th>minivan</th>\n",
       "      <th>pickup</th>\n",
       "      <th>all_wheel</th>\n",
       "      <th>rear_wheel</th>\n",
       "      <th>Price</th>\n",
       "      <th>Dealer_Cost</th>\n",
       "      <th>Engine_size</th>\n",
       "      <th>cylinders</th>\n",
       "      <th>horsepower</th>\n",
       "      <th>city_miles_per_galloon</th>\n",
       "      <th>highway_miles_per_Gallon</th>\n",
       "      <th>weight</th>\n",
       "      <th>base_wheeel</th>\n",
       "      <th>length</th>\n",
       "      <th>width</th>\n",
       "    </tr>\n",
       "  </thead>\n",
       "  <tbody>\n",
       "    <tr>\n",
       "      <th>0</th>\n",
       "      <td>Chevrolet Aveo 4dr</td>\n",
       "      <td>False</td>\n",
       "      <td>False</td>\n",
       "      <td>False</td>\n",
       "      <td>False</td>\n",
       "      <td>False</td>\n",
       "      <td>False</td>\n",
       "      <td>False</td>\n",
       "      <td>11690</td>\n",
       "      <td>10965</td>\n",
       "      <td>1.6</td>\n",
       "      <td>4</td>\n",
       "      <td>103</td>\n",
       "      <td>28.0</td>\n",
       "      <td>34.0</td>\n",
       "      <td>2370.0</td>\n",
       "      <td>98.0</td>\n",
       "      <td>167.0</td>\n",
       "      <td>66.0</td>\n",
       "    </tr>\n",
       "    <tr>\n",
       "      <th>1</th>\n",
       "      <td>Chevrolet Aveo LS 4dr hatch</td>\n",
       "      <td>False</td>\n",
       "      <td>False</td>\n",
       "      <td>False</td>\n",
       "      <td>False</td>\n",
       "      <td>False</td>\n",
       "      <td>False</td>\n",
       "      <td>False</td>\n",
       "      <td>12585</td>\n",
       "      <td>11802</td>\n",
       "      <td>1.6</td>\n",
       "      <td>4</td>\n",
       "      <td>103</td>\n",
       "      <td>28.0</td>\n",
       "      <td>34.0</td>\n",
       "      <td>2348.0</td>\n",
       "      <td>98.0</td>\n",
       "      <td>153.0</td>\n",
       "      <td>66.0</td>\n",
       "    </tr>\n",
       "    <tr>\n",
       "      <th>2</th>\n",
       "      <td>Chevrolet Cavalier 2dr</td>\n",
       "      <td>False</td>\n",
       "      <td>False</td>\n",
       "      <td>False</td>\n",
       "      <td>False</td>\n",
       "      <td>False</td>\n",
       "      <td>False</td>\n",
       "      <td>False</td>\n",
       "      <td>14610</td>\n",
       "      <td>13697</td>\n",
       "      <td>2.2</td>\n",
       "      <td>4</td>\n",
       "      <td>140</td>\n",
       "      <td>26.0</td>\n",
       "      <td>37.0</td>\n",
       "      <td>2617.0</td>\n",
       "      <td>104.0</td>\n",
       "      <td>183.0</td>\n",
       "      <td>69.0</td>\n",
       "    </tr>\n",
       "    <tr>\n",
       "      <th>3</th>\n",
       "      <td>Chevrolet Cavalier 4dr</td>\n",
       "      <td>False</td>\n",
       "      <td>False</td>\n",
       "      <td>False</td>\n",
       "      <td>False</td>\n",
       "      <td>False</td>\n",
       "      <td>False</td>\n",
       "      <td>False</td>\n",
       "      <td>14810</td>\n",
       "      <td>13884</td>\n",
       "      <td>2.2</td>\n",
       "      <td>4</td>\n",
       "      <td>140</td>\n",
       "      <td>26.0</td>\n",
       "      <td>37.0</td>\n",
       "      <td>2676.0</td>\n",
       "      <td>104.0</td>\n",
       "      <td>183.0</td>\n",
       "      <td>68.0</td>\n",
       "    </tr>\n",
       "    <tr>\n",
       "      <th>4</th>\n",
       "      <td>Chevrolet Cavalier LS 2dr</td>\n",
       "      <td>False</td>\n",
       "      <td>False</td>\n",
       "      <td>False</td>\n",
       "      <td>False</td>\n",
       "      <td>False</td>\n",
       "      <td>False</td>\n",
       "      <td>False</td>\n",
       "      <td>16385</td>\n",
       "      <td>15357</td>\n",
       "      <td>2.2</td>\n",
       "      <td>4</td>\n",
       "      <td>140</td>\n",
       "      <td>26.0</td>\n",
       "      <td>37.0</td>\n",
       "      <td>2617.0</td>\n",
       "      <td>104.0</td>\n",
       "      <td>183.0</td>\n",
       "      <td>69.0</td>\n",
       "    </tr>\n",
       "  </tbody>\n",
       "</table>\n",
       "</div>"
      ],
      "text/plain": [
       "                          name  sports_car    suv  wagon  minivan  pickup  \\\n",
       "0           Chevrolet Aveo 4dr       False  False  False    False   False   \n",
       "1  Chevrolet Aveo LS 4dr hatch       False  False  False    False   False   \n",
       "2       Chevrolet Cavalier 2dr       False  False  False    False   False   \n",
       "3       Chevrolet Cavalier 4dr       False  False  False    False   False   \n",
       "4    Chevrolet Cavalier LS 2dr       False  False  False    False   False   \n",
       "\n",
       "   all_wheel  rear_wheel  Price  Dealer_Cost  Engine_size  cylinders  \\\n",
       "0      False       False  11690        10965          1.6          4   \n",
       "1      False       False  12585        11802          1.6          4   \n",
       "2      False       False  14610        13697          2.2          4   \n",
       "3      False       False  14810        13884          2.2          4   \n",
       "4      False       False  16385        15357          2.2          4   \n",
       "\n",
       "   horsepower  city_miles_per_galloon  highway_miles_per_Gallon  weight  \\\n",
       "0         103                    28.0                      34.0  2370.0   \n",
       "1         103                    28.0                      34.0  2348.0   \n",
       "2         140                    26.0                      37.0  2617.0   \n",
       "3         140                    26.0                      37.0  2676.0   \n",
       "4         140                    26.0                      37.0  2617.0   \n",
       "\n",
       "   base_wheeel  length  width  \n",
       "0         98.0   167.0   66.0  \n",
       "1         98.0   153.0   66.0  \n",
       "2        104.0   183.0   69.0  \n",
       "3        104.0   183.0   68.0  \n",
       "4        104.0   183.0   69.0  "
      ]
     },
     "metadata": {}
    }
   ],
   "metadata": {}
  },
  {
   "cell_type": "markdown",
   "source": [
    "### 1- How many Rows are in the cars dataset?\r\n",
    "    cars_data_rows_num = cars_data.shape[0]\r\n",
    "'428 rows'\r\n",
    "\r\n",
    "### 2- How many Columns are in the car's data set?\r\n",
    "    cars_data_cols_num = cars_data.shape[1]; display(f\"{cars_data_cols_num} columns\")\r\n",
    "    '19 columns'\r\n",
    "\r\n",
    "### 3- How many unique numbers of cylinders we have in the cars dataset?\r\n",
    "    num_of_unique_values_of_cylinders = cars_data[\"cylinders\"].nunique()\r\n",
    "\r\n",
    "        8\r\n",
    "\r\n",
    "### 4- what is the average horsepower of cars? \r\n",
    "    avg_horsepower = cars_data[\"horsepower\"].mean()\r\n",
    "\r\n",
    "        215.8855140186916\r\n",
    "\r\n",
    "### 5- what is the maximum horsepower?\r\n",
    "    max_horsepower = cars_data['horsepower'].max()\r\n",
    "\r\n",
    "        \r\n",
    "        500\r\n",
    "### 6- what is the most expensive car?\r\n",
    "    cars_data[cars_data[\"Price\"] == cars_data[\"Price\"].max()]\r\n",
    "\r\n",
    "                or\r\n",
    "\r\n",
    "    max_value = cars_data['price'].max()\r\n",
    "\r\n",
    "    max_rows = cars_data.loc[cars_data['price']==max_value]\r\n",
    "    most_expensive_car = max_rows.iloc[0,0]\r\n",
    "        \r\n",
    "        'Porsche 911 GT2 2dr'\r\n",
    "\r\n",
    "### 7- change the name of the column \"name\" to \"car name\"\r\n",
    "    cars_data = cars_data.rename(columns={'name': 'car name'})\r\n"
   ],
   "metadata": {}
  },
  {
   "cell_type": "code",
   "execution_count": 19,
   "source": [
    "### 1- How many Rows are in the cars dataset?\r\n",
    "\r\n",
    "cars_data_rows_num = cars_data.shape[0];\r\n",
    "display(f\"{cars_data_rows_num} rows\")\r\n",
    "\r\n",
    "print(f\"{cars_data_rows_num}        ----------------------         rows\",end=\" . \"); print(\"Mahmoud\"); print(\"Mahmoud\") "
   ],
   "outputs": [
    {
     "output_type": "display_data",
     "data": {
      "text/plain": [
       "'428 rows'"
      ]
     },
     "metadata": {}
    },
    {
     "output_type": "stream",
     "name": "stdout",
     "text": [
      "428        ----------------------         rows . Mahmoud\n",
      "Mahmoud\n"
     ]
    }
   ],
   "metadata": {}
  },
  {
   "cell_type": "code",
   "execution_count": 3,
   "source": [
    "### 2- How many Columns are in the car's data set?\r\n",
    "cars_data_cols_num = cars_data.shape[1]; display(f\"{cars_data_cols_num} columns\")"
   ],
   "outputs": [
    {
     "output_type": "display_data",
     "data": {
      "text/plain": [
       "'19 columns'"
      ]
     },
     "metadata": {}
    }
   ],
   "metadata": {}
  },
  {
   "cell_type": "code",
   "execution_count": 4,
   "source": [
    "### 3- How many unique numbers of cylinders we have in the cars dataset?\r\n",
    "\r\n",
    "num_of_unique_values_of_cylinders = cars_data[\"cylinders\"].nunique()\r\n",
    "num_of_unique_values_of_cylinders"
   ],
   "outputs": [
    {
     "output_type": "execute_result",
     "data": {
      "text/plain": [
       "8"
      ]
     },
     "metadata": {},
     "execution_count": 4
    }
   ],
   "metadata": {}
  },
  {
   "cell_type": "code",
   "execution_count": 29,
   "source": [
    "### 4- what is the average horsepower of cars? \r\n",
    "\r\n",
    "avg_horsepower = cars_data[\"horsepower\"].mean().__round__(3)\r\n",
    "avg_horsepower"
   ],
   "outputs": [
    {
     "output_type": "execute_result",
     "data": {
      "text/plain": [
       "215.886"
      ]
     },
     "metadata": {},
     "execution_count": 29
    }
   ],
   "metadata": {}
  },
  {
   "cell_type": "code",
   "execution_count": 6,
   "source": [
    "### 5- what is the maximum horsepower?\r\n",
    "\r\n",
    "max_horsepower = cars_data['horsepower'].max()\r\n",
    "max_horsepower"
   ],
   "outputs": [
    {
     "output_type": "execute_result",
     "data": {
      "text/plain": [
       "500"
      ]
     },
     "metadata": {},
     "execution_count": 6
    }
   ],
   "metadata": {}
  },
  {
   "cell_type": "code",
   "execution_count": 51,
   "source": [
    "### 6- what is the most expensive car?\r\n",
    "    \r\n",
    "max_value = cars_data['Price'].max()\r\n",
    "display((max_value))\r\n",
    "\r\n",
    "max_rows = cars_data.loc[cars_data['Price']==max_value] # Get the rows that have a price == max_value\r\n",
    "display((max_rows))\r\n",
    "\r\n",
    "# most_expensive_car = max_rows.iloc[0,0]\r\n",
    "most_expensive_car = cars_data.iloc[[0,4,9],[3,5,6]]\r\n",
    "\r\n",
    "most_expensive_car"
   ],
   "outputs": [
    {
     "output_type": "display_data",
     "data": {
      "text/plain": [
       "192465"
      ]
     },
     "metadata": {}
    },
    {
     "output_type": "display_data",
     "data": {
      "application/vnd.jupyter.widget-view+json": {
       "model_id": "35b840d0014e4f1a9fa1dea4e0f777ea"
      },
      "text/html": [
       "<div>\n",
       "<style scoped>\n",
       "    .dataframe tbody tr th:only-of-type {\n",
       "        vertical-align: middle;\n",
       "    }\n",
       "\n",
       "    .dataframe tbody tr th {\n",
       "        vertical-align: top;\n",
       "    }\n",
       "\n",
       "    .dataframe thead th {\n",
       "        text-align: right;\n",
       "    }\n",
       "</style>\n",
       "<table border=\"1\" class=\"dataframe\">\n",
       "  <thead>\n",
       "    <tr style=\"text-align: right;\">\n",
       "      <th></th>\n",
       "      <th>name</th>\n",
       "      <th>sports_car</th>\n",
       "      <th>suv</th>\n",
       "      <th>wagon</th>\n",
       "      <th>minivan</th>\n",
       "      <th>pickup</th>\n",
       "      <th>all_wheel</th>\n",
       "      <th>rear_wheel</th>\n",
       "      <th>Price</th>\n",
       "      <th>Dealer_Cost</th>\n",
       "      <th>Engine_size</th>\n",
       "      <th>cylinders</th>\n",
       "      <th>horsepower</th>\n",
       "      <th>city_miles_per_galloon</th>\n",
       "      <th>highway_miles_per_Gallon</th>\n",
       "      <th>weight</th>\n",
       "      <th>base_wheeel</th>\n",
       "      <th>length</th>\n",
       "      <th>width</th>\n",
       "    </tr>\n",
       "  </thead>\n",
       "  <tbody>\n",
       "    <tr>\n",
       "      <th>287</th>\n",
       "      <td>Porsche 911 GT2 2dr</td>\n",
       "      <td>True</td>\n",
       "      <td>False</td>\n",
       "      <td>False</td>\n",
       "      <td>False</td>\n",
       "      <td>False</td>\n",
       "      <td>False</td>\n",
       "      <td>True</td>\n",
       "      <td>192465</td>\n",
       "      <td>173560</td>\n",
       "      <td>3.6</td>\n",
       "      <td>6</td>\n",
       "      <td>477</td>\n",
       "      <td>17.0</td>\n",
       "      <td>24.0</td>\n",
       "      <td>3131.0</td>\n",
       "      <td>93.0</td>\n",
       "      <td>175.0</td>\n",
       "      <td>72.0</td>\n",
       "    </tr>\n",
       "  </tbody>\n",
       "</table>\n",
       "</div>"
      ],
      "text/plain": [
       "                    name  sports_car    suv  wagon  minivan  pickup  \\\n",
       "287  Porsche 911 GT2 2dr        True  False  False    False   False   \n",
       "\n",
       "     all_wheel  rear_wheel   Price  Dealer_Cost  Engine_size  cylinders  \\\n",
       "287      False        True  192465       173560          3.6          6   \n",
       "\n",
       "     horsepower  city_miles_per_galloon  highway_miles_per_Gallon  weight  \\\n",
       "287         477                    17.0                      24.0  3131.0   \n",
       "\n",
       "     base_wheeel  length  width  \n",
       "287         93.0   175.0   72.0  "
      ]
     },
     "metadata": {}
    },
    {
     "output_type": "display_data",
     "data": {
      "application/vnd.jupyter.widget-view+json": {
       "model_id": "ac3724c74d34484da854e14c61f4a2b8"
      },
      "text/html": [
       "<div>\n",
       "<style scoped>\n",
       "    .dataframe tbody tr th:only-of-type {\n",
       "        vertical-align: middle;\n",
       "    }\n",
       "\n",
       "    .dataframe tbody tr th {\n",
       "        vertical-align: top;\n",
       "    }\n",
       "\n",
       "    .dataframe thead th {\n",
       "        text-align: right;\n",
       "    }\n",
       "</style>\n",
       "<table border=\"1\" class=\"dataframe\">\n",
       "  <thead>\n",
       "    <tr style=\"text-align: right;\">\n",
       "      <th></th>\n",
       "      <th>wagon</th>\n",
       "      <th>pickup</th>\n",
       "      <th>all_wheel</th>\n",
       "    </tr>\n",
       "  </thead>\n",
       "  <tbody>\n",
       "    <tr>\n",
       "      <th>0</th>\n",
       "      <td>False</td>\n",
       "      <td>False</td>\n",
       "      <td>False</td>\n",
       "    </tr>\n",
       "    <tr>\n",
       "      <th>4</th>\n",
       "      <td>False</td>\n",
       "      <td>False</td>\n",
       "      <td>False</td>\n",
       "    </tr>\n",
       "    <tr>\n",
       "      <th>9</th>\n",
       "      <td>False</td>\n",
       "      <td>False</td>\n",
       "      <td>False</td>\n",
       "    </tr>\n",
       "  </tbody>\n",
       "</table>\n",
       "</div>"
      ],
      "text/plain": [
       "   wagon  pickup  all_wheel\n",
       "0  False   False      False\n",
       "4  False   False      False\n",
       "9  False   False      False"
      ]
     },
     "metadata": {}
    }
   ],
   "metadata": {}
  },
  {
   "cell_type": "code",
   "execution_count": 53,
   "source": [
    "### 7- change the name of the column \"name\" to \"car name\"\r\n",
    "\r\n",
    "cars_data = cars_data.rename(columns={'name': 'car name'})\r\n",
    "cars_data"
   ],
   "outputs": [
    {
     "output_type": "display_data",
     "data": {
      "application/vnd.jupyter.widget-view+json": {
       "model_id": "282c484328724246bf5a189784704397"
      },
      "text/html": [
       "<div>\n",
       "<style scoped>\n",
       "    .dataframe tbody tr th:only-of-type {\n",
       "        vertical-align: middle;\n",
       "    }\n",
       "\n",
       "    .dataframe tbody tr th {\n",
       "        vertical-align: top;\n",
       "    }\n",
       "\n",
       "    .dataframe thead th {\n",
       "        text-align: right;\n",
       "    }\n",
       "</style>\n",
       "<table border=\"1\" class=\"dataframe\">\n",
       "  <thead>\n",
       "    <tr style=\"text-align: right;\">\n",
       "      <th></th>\n",
       "      <th>car name</th>\n",
       "      <th>sports_car</th>\n",
       "      <th>suv</th>\n",
       "      <th>wagon</th>\n",
       "      <th>minivan</th>\n",
       "      <th>pickup</th>\n",
       "      <th>all_wheel</th>\n",
       "      <th>rear_wheel</th>\n",
       "      <th>Price</th>\n",
       "      <th>Dealer_Cost</th>\n",
       "      <th>Engine_size</th>\n",
       "      <th>cylinders</th>\n",
       "      <th>horsepower</th>\n",
       "      <th>city_miles_per_galloon</th>\n",
       "      <th>highway_miles_per_Gallon</th>\n",
       "      <th>weight</th>\n",
       "      <th>base_wheeel</th>\n",
       "      <th>length</th>\n",
       "      <th>width</th>\n",
       "    </tr>\n",
       "  </thead>\n",
       "  <tbody>\n",
       "    <tr>\n",
       "      <th>0</th>\n",
       "      <td>Chevrolet Aveo 4dr</td>\n",
       "      <td>False</td>\n",
       "      <td>False</td>\n",
       "      <td>False</td>\n",
       "      <td>False</td>\n",
       "      <td>False</td>\n",
       "      <td>False</td>\n",
       "      <td>False</td>\n",
       "      <td>11690</td>\n",
       "      <td>10965</td>\n",
       "      <td>1.6</td>\n",
       "      <td>4</td>\n",
       "      <td>103</td>\n",
       "      <td>28.0</td>\n",
       "      <td>34.0</td>\n",
       "      <td>2370.0</td>\n",
       "      <td>98.0</td>\n",
       "      <td>167.0</td>\n",
       "      <td>66.0</td>\n",
       "    </tr>\n",
       "    <tr>\n",
       "      <th>1</th>\n",
       "      <td>Chevrolet Aveo LS 4dr hatch</td>\n",
       "      <td>False</td>\n",
       "      <td>False</td>\n",
       "      <td>False</td>\n",
       "      <td>False</td>\n",
       "      <td>False</td>\n",
       "      <td>False</td>\n",
       "      <td>False</td>\n",
       "      <td>12585</td>\n",
       "      <td>11802</td>\n",
       "      <td>1.6</td>\n",
       "      <td>4</td>\n",
       "      <td>103</td>\n",
       "      <td>28.0</td>\n",
       "      <td>34.0</td>\n",
       "      <td>2348.0</td>\n",
       "      <td>98.0</td>\n",
       "      <td>153.0</td>\n",
       "      <td>66.0</td>\n",
       "    </tr>\n",
       "    <tr>\n",
       "      <th>2</th>\n",
       "      <td>Chevrolet Cavalier 2dr</td>\n",
       "      <td>False</td>\n",
       "      <td>False</td>\n",
       "      <td>False</td>\n",
       "      <td>False</td>\n",
       "      <td>False</td>\n",
       "      <td>False</td>\n",
       "      <td>False</td>\n",
       "      <td>14610</td>\n",
       "      <td>13697</td>\n",
       "      <td>2.2</td>\n",
       "      <td>4</td>\n",
       "      <td>140</td>\n",
       "      <td>26.0</td>\n",
       "      <td>37.0</td>\n",
       "      <td>2617.0</td>\n",
       "      <td>104.0</td>\n",
       "      <td>183.0</td>\n",
       "      <td>69.0</td>\n",
       "    </tr>\n",
       "    <tr>\n",
       "      <th>3</th>\n",
       "      <td>Chevrolet Cavalier 4dr</td>\n",
       "      <td>False</td>\n",
       "      <td>False</td>\n",
       "      <td>False</td>\n",
       "      <td>False</td>\n",
       "      <td>False</td>\n",
       "      <td>False</td>\n",
       "      <td>False</td>\n",
       "      <td>14810</td>\n",
       "      <td>13884</td>\n",
       "      <td>2.2</td>\n",
       "      <td>4</td>\n",
       "      <td>140</td>\n",
       "      <td>26.0</td>\n",
       "      <td>37.0</td>\n",
       "      <td>2676.0</td>\n",
       "      <td>104.0</td>\n",
       "      <td>183.0</td>\n",
       "      <td>68.0</td>\n",
       "    </tr>\n",
       "    <tr>\n",
       "      <th>4</th>\n",
       "      <td>Chevrolet Cavalier LS 2dr</td>\n",
       "      <td>False</td>\n",
       "      <td>False</td>\n",
       "      <td>False</td>\n",
       "      <td>False</td>\n",
       "      <td>False</td>\n",
       "      <td>False</td>\n",
       "      <td>False</td>\n",
       "      <td>16385</td>\n",
       "      <td>15357</td>\n",
       "      <td>2.2</td>\n",
       "      <td>4</td>\n",
       "      <td>140</td>\n",
       "      <td>26.0</td>\n",
       "      <td>37.0</td>\n",
       "      <td>2617.0</td>\n",
       "      <td>104.0</td>\n",
       "      <td>183.0</td>\n",
       "      <td>69.0</td>\n",
       "    </tr>\n",
       "    <tr>\n",
       "      <th>...</th>\n",
       "      <td>...</td>\n",
       "      <td>...</td>\n",
       "      <td>...</td>\n",
       "      <td>...</td>\n",
       "      <td>...</td>\n",
       "      <td>...</td>\n",
       "      <td>...</td>\n",
       "      <td>...</td>\n",
       "      <td>...</td>\n",
       "      <td>...</td>\n",
       "      <td>...</td>\n",
       "      <td>...</td>\n",
       "      <td>...</td>\n",
       "      <td>...</td>\n",
       "      <td>...</td>\n",
       "      <td>...</td>\n",
       "      <td>...</td>\n",
       "      <td>...</td>\n",
       "      <td>...</td>\n",
       "    </tr>\n",
       "    <tr>\n",
       "      <th>423</th>\n",
       "      <td>Nissan Titan King Cab XE</td>\n",
       "      <td>False</td>\n",
       "      <td>False</td>\n",
       "      <td>False</td>\n",
       "      <td>False</td>\n",
       "      <td>True</td>\n",
       "      <td>True</td>\n",
       "      <td>False</td>\n",
       "      <td>26650</td>\n",
       "      <td>24926</td>\n",
       "      <td>5.6</td>\n",
       "      <td>8</td>\n",
       "      <td>305</td>\n",
       "      <td>14.0</td>\n",
       "      <td>18.0</td>\n",
       "      <td>5287.0</td>\n",
       "      <td>140.0</td>\n",
       "      <td>NaN</td>\n",
       "      <td>NaN</td>\n",
       "    </tr>\n",
       "    <tr>\n",
       "      <th>424</th>\n",
       "      <td>Subaru Baja</td>\n",
       "      <td>False</td>\n",
       "      <td>False</td>\n",
       "      <td>False</td>\n",
       "      <td>False</td>\n",
       "      <td>True</td>\n",
       "      <td>True</td>\n",
       "      <td>False</td>\n",
       "      <td>24520</td>\n",
       "      <td>22304</td>\n",
       "      <td>2.5</td>\n",
       "      <td>4</td>\n",
       "      <td>165</td>\n",
       "      <td>21.0</td>\n",
       "      <td>28.0</td>\n",
       "      <td>3485.0</td>\n",
       "      <td>104.0</td>\n",
       "      <td>NaN</td>\n",
       "      <td>NaN</td>\n",
       "    </tr>\n",
       "    <tr>\n",
       "      <th>425</th>\n",
       "      <td>Toyota Tacoma</td>\n",
       "      <td>False</td>\n",
       "      <td>False</td>\n",
       "      <td>False</td>\n",
       "      <td>False</td>\n",
       "      <td>True</td>\n",
       "      <td>False</td>\n",
       "      <td>True</td>\n",
       "      <td>12800</td>\n",
       "      <td>11879</td>\n",
       "      <td>2.4</td>\n",
       "      <td>4</td>\n",
       "      <td>142</td>\n",
       "      <td>22.0</td>\n",
       "      <td>27.0</td>\n",
       "      <td>2750.0</td>\n",
       "      <td>103.0</td>\n",
       "      <td>NaN</td>\n",
       "      <td>NaN</td>\n",
       "    </tr>\n",
       "    <tr>\n",
       "      <th>426</th>\n",
       "      <td>Toyota Tundra Regular Cab V6</td>\n",
       "      <td>False</td>\n",
       "      <td>False</td>\n",
       "      <td>False</td>\n",
       "      <td>False</td>\n",
       "      <td>True</td>\n",
       "      <td>False</td>\n",
       "      <td>True</td>\n",
       "      <td>16495</td>\n",
       "      <td>14978</td>\n",
       "      <td>3.4</td>\n",
       "      <td>6</td>\n",
       "      <td>190</td>\n",
       "      <td>16.0</td>\n",
       "      <td>20.0</td>\n",
       "      <td>3925.0</td>\n",
       "      <td>128.0</td>\n",
       "      <td>NaN</td>\n",
       "      <td>NaN</td>\n",
       "    </tr>\n",
       "    <tr>\n",
       "      <th>427</th>\n",
       "      <td>Toyota Tundra Access Cab V6 SR5</td>\n",
       "      <td>False</td>\n",
       "      <td>False</td>\n",
       "      <td>False</td>\n",
       "      <td>False</td>\n",
       "      <td>True</td>\n",
       "      <td>True</td>\n",
       "      <td>False</td>\n",
       "      <td>25935</td>\n",
       "      <td>23520</td>\n",
       "      <td>3.4</td>\n",
       "      <td>6</td>\n",
       "      <td>190</td>\n",
       "      <td>14.0</td>\n",
       "      <td>17.0</td>\n",
       "      <td>4435.0</td>\n",
       "      <td>128.0</td>\n",
       "      <td>NaN</td>\n",
       "      <td>NaN</td>\n",
       "    </tr>\n",
       "  </tbody>\n",
       "</table>\n",
       "<p>428 rows × 19 columns</p>\n",
       "</div>"
      ],
      "text/plain": [
       "                            car name  sports_car    suv  wagon  minivan  \\\n",
       "0                 Chevrolet Aveo 4dr       False  False  False    False   \n",
       "1        Chevrolet Aveo LS 4dr hatch       False  False  False    False   \n",
       "2             Chevrolet Cavalier 2dr       False  False  False    False   \n",
       "3             Chevrolet Cavalier 4dr       False  False  False    False   \n",
       "4          Chevrolet Cavalier LS 2dr       False  False  False    False   \n",
       "..                               ...         ...    ...    ...      ...   \n",
       "423         Nissan Titan King Cab XE       False  False  False    False   \n",
       "424                      Subaru Baja       False  False  False    False   \n",
       "425                    Toyota Tacoma       False  False  False    False   \n",
       "426     Toyota Tundra Regular Cab V6       False  False  False    False   \n",
       "427  Toyota Tundra Access Cab V6 SR5       False  False  False    False   \n",
       "\n",
       "     pickup  all_wheel  rear_wheel  Price  Dealer_Cost  Engine_size  \\\n",
       "0     False      False       False  11690        10965          1.6   \n",
       "1     False      False       False  12585        11802          1.6   \n",
       "2     False      False       False  14610        13697          2.2   \n",
       "3     False      False       False  14810        13884          2.2   \n",
       "4     False      False       False  16385        15357          2.2   \n",
       "..      ...        ...         ...    ...          ...          ...   \n",
       "423    True       True       False  26650        24926          5.6   \n",
       "424    True       True       False  24520        22304          2.5   \n",
       "425    True      False        True  12800        11879          2.4   \n",
       "426    True      False        True  16495        14978          3.4   \n",
       "427    True       True       False  25935        23520          3.4   \n",
       "\n",
       "     cylinders  horsepower  city_miles_per_galloon  highway_miles_per_Gallon  \\\n",
       "0            4         103                    28.0                      34.0   \n",
       "1            4         103                    28.0                      34.0   \n",
       "2            4         140                    26.0                      37.0   \n",
       "3            4         140                    26.0                      37.0   \n",
       "4            4         140                    26.0                      37.0   \n",
       "..         ...         ...                     ...                       ...   \n",
       "423          8         305                    14.0                      18.0   \n",
       "424          4         165                    21.0                      28.0   \n",
       "425          4         142                    22.0                      27.0   \n",
       "426          6         190                    16.0                      20.0   \n",
       "427          6         190                    14.0                      17.0   \n",
       "\n",
       "     weight  base_wheeel  length  width  \n",
       "0    2370.0         98.0   167.0   66.0  \n",
       "1    2348.0         98.0   153.0   66.0  \n",
       "2    2617.0        104.0   183.0   69.0  \n",
       "3    2676.0        104.0   183.0   68.0  \n",
       "4    2617.0        104.0   183.0   69.0  \n",
       "..      ...          ...     ...    ...  \n",
       "423  5287.0        140.0     NaN    NaN  \n",
       "424  3485.0        104.0     NaN    NaN  \n",
       "425  2750.0        103.0     NaN    NaN  \n",
       "426  3925.0        128.0     NaN    NaN  \n",
       "427  4435.0        128.0     NaN    NaN  \n",
       "\n",
       "[428 rows x 19 columns]"
      ]
     },
     "metadata": {}
    }
   ],
   "metadata": {}
  },
  {
   "cell_type": "code",
   "execution_count": 41,
   "source": [
    "\r\n",
    "# importing pandas package\r\n",
    "import pandas as pd\r\n",
    "  \r\n",
    "# making data frame from csv file\r\n",
    "data = pd.read_csv(\"nba.csv\", index_col =\"Name\")\r\n",
    "  \r\n",
    "# retrieving rows by loc method\r\n",
    "rows = data.loc[\"Avery Bradley\": \"R.J. Hunter\", \"College\"]\r\n",
    "\r\n",
    "  \r\n",
    "# checking data type of rows\r\n",
    "print(type(rows))\r\n",
    "  \r\n",
    "# display\r\n",
    "rows"
   ],
   "outputs": [
    {
     "output_type": "stream",
     "name": "stdout",
     "text": [
      "<class 'pandas.core.series.Series'>\n"
     ]
    },
    {
     "output_type": "execute_result",
     "data": {
      "text/plain": [
       "Name\n",
       "Avery Bradley                Texas\n",
       "Jae Crowder              Marquette\n",
       "John Holland     Boston University\n",
       "R.J. Hunter          Georgia State\n",
       "Name: College, dtype: object"
      ]
     },
     "metadata": {},
     "execution_count": 41
    }
   ],
   "metadata": {}
  },
  {
   "cell_type": "code",
   "execution_count": 9,
   "source": [
    "### 8- make a subset of the data that has the car name, the price and name the new sub-setted data frame  car pricing.\r\n",
    "car_pricing = cars_data[['car name', 'Price']]\r\n",
    "car_pricing_12545 = car_pricing.loc[car_pricing['car name'].isin(['Chevrolet Aveo 4dr'])]\r\n",
    "car_pricing_12545.iloc[0,1]"
   ],
   "outputs": [
    {
     "output_type": "execute_result",
     "data": {
      "text/plain": [
       "11690"
      ]
     },
     "metadata": {},
     "execution_count": 9
    }
   ],
   "metadata": {}
  },
  {
   "cell_type": "code",
   "execution_count": 66,
   "source": [
    "### 9- create a function called pricing category that returns \"Budget Car \" if the cars are less than 20,000 USD,\" Suitable Car \" \r\n",
    "### is the car is more than 20,000 and less than 35 000 and finally an expensive car for cars more than 35000.\r\n",
    "\r\n",
    "def pricing_category(car_name):\r\n",
    "    \"\"\"a Function that returns the category of a specified car_name\r\n",
    "\r\n",
    "    Args:\r\n",
    "        car_name (String): [The name of the specified car]\r\n",
    "\r\n",
    "    Returns:\r\n",
    "        [String]: [The category of the car]\r\n",
    "    \"\"\"\r\n",
    "    car_pricing = cars_data[['car name', 'Price']]\r\n",
    "    loop = True\r\n",
    "    \r\n",
    "    while loop==True:\r\n",
    "        global the_car_name \r\n",
    "        the_car_name = input(\"Please Enter the name of the car, which you need to know its category: \")\r\n",
    "        try:\r\n",
    "            car_name_df = car_pricing.loc[car_pricing['car name'].isin([car_name])]\r\n",
    "            car_price = car_name_df.iloc[0,1]\r\n",
    "            \r\n",
    "            if car_price < 20000:\r\n",
    "                loop = False\r\n",
    "                return \"Budget Car\"\r\n",
    "            elif car_price > 20000 and car_price < 35000:\r\n",
    "                loop = False\r\n",
    "                return \"Suitable Car\"\r\n",
    "            \r\n",
    "            elif car_price > 35000:\r\n",
    "                loop = False\r\n",
    "                return \"Expensive car\"\r\n",
    "            \r\n",
    "        except (NameError, TypeError, ZeroDivisionError, IndexError):\r\n",
    "            loop = True\r\n",
    "            return \"Please make sure to write the name of the care correctly!\"\r\n",
    "\r\n",
    "print(pricing_category(the_car_name))\r\n",
    "            "
   ],
   "outputs": [
    {
     "output_type": "stream",
     "name": "stdout",
     "text": [
      "Please make sure to write the name of the care correctly!\n"
     ]
    }
   ],
   "metadata": {}
  },
  {
   "cell_type": "code",
   "execution_count": 63,
   "source": [
    "loop = 5\r\n",
    "while loop >=1:\r\n",
    "    print(loop)\r\n",
    "    input(\"fdfd\")\r\n",
    "    loop -= 2"
   ],
   "outputs": [
    {
     "output_type": "stream",
     "name": "stdout",
     "text": [
      "5\n",
      "3\n",
      "1\n"
     ]
    }
   ],
   "metadata": {}
  },
  {
   "cell_type": "code",
   "execution_count": 67,
   "source": [
    "### 10- create a column named category on the subset using a for loop and pricing category function.\r\n",
    "\r\n",
    "# 1. iterate through pandas dataframe column -> iterate through \"car name\" column \r\n",
    "for i in range(len(car_pricing)):\r\n",
    "    car_pricing.loc[i, \"category\"] = pricing_category(car_pricing.loc[i, \"car name\"])\r\n",
    "    \r\n",
    "car_pricing['category'] = car_pricing['category'].astype('string')\r\n",
    "car_pricing"
   ],
   "outputs": [
    {
     "output_type": "error",
     "ename": "NameError",
     "evalue": "name 'car_pricing' is not defined",
     "traceback": [
      "\u001b[1;31m---------------------------------------------------------------------------\u001b[0m",
      "\u001b[1;31mNameError\u001b[0m                                 Traceback (most recent call last)",
      "\u001b[1;32m~\\AppData\\Local\\Temp/ipykernel_496/2064089725.py\u001b[0m in \u001b[0;36m<module>\u001b[1;34m\u001b[0m\n\u001b[0;32m      2\u001b[0m \u001b[1;33m\u001b[0m\u001b[0m\n\u001b[0;32m      3\u001b[0m \u001b[1;31m# 1. iterate through pandas dataframe column -> iterate through \"car name\" column\u001b[0m\u001b[1;33m\u001b[0m\u001b[1;33m\u001b[0m\u001b[1;33m\u001b[0m\u001b[0m\n\u001b[1;32m----> 4\u001b[1;33m \u001b[1;32mfor\u001b[0m \u001b[0mi\u001b[0m \u001b[1;32min\u001b[0m \u001b[0mrange\u001b[0m\u001b[1;33m(\u001b[0m\u001b[0mlen\u001b[0m\u001b[1;33m(\u001b[0m\u001b[0mcar_pricing\u001b[0m\u001b[1;33m)\u001b[0m\u001b[1;33m)\u001b[0m\u001b[1;33m:\u001b[0m\u001b[1;33m\u001b[0m\u001b[1;33m\u001b[0m\u001b[0m\n\u001b[0m\u001b[0;32m      5\u001b[0m     \u001b[0mcar_pricing\u001b[0m\u001b[1;33m.\u001b[0m\u001b[0mloc\u001b[0m\u001b[1;33m[\u001b[0m\u001b[0mi\u001b[0m\u001b[1;33m,\u001b[0m \u001b[1;34m\"category\"\u001b[0m\u001b[1;33m]\u001b[0m \u001b[1;33m=\u001b[0m \u001b[0mpricing_category\u001b[0m\u001b[1;33m(\u001b[0m\u001b[0mcar_pricing\u001b[0m\u001b[1;33m.\u001b[0m\u001b[0mloc\u001b[0m\u001b[1;33m[\u001b[0m\u001b[0mi\u001b[0m\u001b[1;33m,\u001b[0m \u001b[1;34m\"car name\"\u001b[0m\u001b[1;33m]\u001b[0m\u001b[1;33m)\u001b[0m\u001b[1;33m\u001b[0m\u001b[1;33m\u001b[0m\u001b[0m\n\u001b[0;32m      6\u001b[0m \u001b[1;33m\u001b[0m\u001b[0m\n",
      "\u001b[1;31mNameError\u001b[0m: name 'car_pricing' is not defined"
     ]
    }
   ],
   "metadata": {}
  },
  {
   "cell_type": "code",
   "execution_count": 12,
   "source": [
    "### 11- How many Budget cars, suitable cars, and expensive cars we have?\r\n",
    "\r\n",
    "display((car_pricing[\"category\"]=='Budget Car').sum())\r\n",
    "display((car_pricing[\"category\"]=='Suitable Car').sum())\r\n",
    "display((car_pricing[\"category\"]=='Expensive car').sum())\r\n",
    "\r\n"
   ],
   "outputs": [
    {
     "output_type": "display_data",
     "data": {
      "text/plain": [
       "98"
      ]
     },
     "metadata": {}
    },
    {
     "output_type": "display_data",
     "data": {
      "text/plain": [
       "193"
      ]
     },
     "metadata": {}
    },
    {
     "output_type": "display_data",
     "data": {
      "text/plain": [
       "137"
      ]
     },
     "metadata": {}
    }
   ],
   "metadata": {}
  },
  {
   "cell_type": "code",
   "execution_count": null,
   "source": [],
   "outputs": [],
   "metadata": {}
  }
 ],
 "metadata": {
  "interpreter": {
   "hash": "76a6b5fd9e096a131fa5611e7bb8b94ee00acbd0c324b351569a86cd5c340398"
  },
  "jupytext": {
   "cell_metadata_filter": "-all",
   "notebook_metadata_filter": "-all"
  },
  "kernelspec": {
   "name": "python3",
   "display_name": "Python 3.7.11 64-bit ('bamboolib3.7': conda)"
  },
  "language_info": {
   "codemirror_mode": {
    "name": "ipython",
    "version": 3
   },
   "file_extension": ".py",
   "mimetype": "text/x-python",
   "name": "python",
   "nbconvert_exporter": "python",
   "pygments_lexer": "ipython3",
   "version": "3.7.11"
  }
 },
 "nbformat": 4,
 "nbformat_minor": 2
}